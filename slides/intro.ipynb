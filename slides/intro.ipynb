{
  "cells": [
    {
      "cell_type": "markdown",
      "metadata": {},
      "source": [
        "# Course Overview and Computational Environment\n",
        "\n",
        "Undergraduate Computational Macro\n",
        "\n",
        "Jesse Perla (University of British Columbia)\n",
        "\n",
        "# Course Overview and Objectives\n",
        "\n",
        "## Course Structure and Prerequisites\n",
        "\n",
        "-   “Macroconomics on a computer”. Mostly macro-finance and macro-labor\n",
        "    -   Not an intro to programming course or stats/econometrics class\n",
        "    -   Less programming than ECON323, more math and theory\n",
        "-   Build experience with computational tools and structural models in\n",
        "    macroeconomics which can help you conduct “counterfactuals”\n",
        "    -   Lots of simulation, but not much data or empirics\n",
        "    -   Complement to other courses focusing on “field” topics,\n",
        "        empirics, estimation, inference, datascience, etc.\n",
        "\n",
        "## Prerequisites\n",
        "\n",
        "-   You need to have\n",
        "    -   One of ECON 301, ECON 304, ECON 308\n",
        "    -   One of ECON 323, CPSC 103, CPSC 110, MATH 210, COMM 337\n",
        "    -   One of MATH 221, MATH 223.\n",
        "-   **Not negotiable** to have intermediate micro\n",
        "-   **Not negotiable** to have the formal programming class in some\n",
        "    general purpose language (e.g., Stata and R don’t count, self-study\n",
        "    isn’t enough)\n",
        "-   Math requirement you can talk to me, especially if you took ECON307\n",
        "    or have significant background in linear algebra and multivariate\n",
        "    calculus\n",
        "\n",
        "## Assessments\n",
        "\n",
        "-   Grading:\n",
        "    -   6-8 problem sets: 20% (total)\n",
        "    -   Midterm exam: 30%\n",
        "    -   Final exam: 50%\n",
        "-   Midterm and final examinations will be done in a computer lab or on\n",
        "    your own computer in class. Not testing programming skills\n",
        "-   Problem sets will start off short and easy to help those with less\n",
        "    programming experience, and then build in (economics) complexity.\n",
        "-   See the [syllabus](../pages/syllabus.qmd) for missed exam policies\n",
        "\n",
        "# Programming Languages\n",
        "\n",
        "## Which Language?\n",
        "\n",
        "-   Plenty of languages used in economics and finance: Matlab, Python,\n",
        "    Julia, Fortran, C++, Stata, Dynare, R, Stan…\n",
        "    -   All are great for some things, and terrible for others\n",
        "    -   Some are highly specialized and less general purpose than others\n",
        "        (e.g. Stata and R)\n",
        "-   I love specialized languages! But…\n",
        "    -   My philosophy is you will need to learn **at least** two general\n",
        "        purpose programming languages over your career.\n",
        "\n",
        "## Benefits of Learning more Languages\n",
        "\n",
        "Plan for your longrun career, languages come and go…\n",
        "\n",
        "-   The 2nd language makes you a better programmer at both\n",
        "-   The 3rd is even easier as you learn similarities and differences\n",
        "-   On grad school or job applications everyone says they know Python\n",
        "    -   Differentiator to credibly claim you know another serious\n",
        "        language\n",
        "    -   Increasingly important to **signal** computational\n",
        "        sophistication to get jobs\n",
        "    -   Julia is as good as any for that purpose\n",
        "\n",
        "## Advantages of Learning Julia for Economics and Finance\n",
        "\n",
        "-   Python is great for datascience and ML, but “ugly”, verbose, and\n",
        "    slow to use directly for many simulations and computational methods\n",
        "    -   Python wrappers for high-performance code used in ML are great\n",
        "    -   But when an appropriate framework doesn’t exist, writing fast\n",
        "        code yourself in Python is much harder than in Julia\n",
        "    -   Performance in Python usually means C++ or frameworks like JAX\n",
        "-   Julia (and Matlab) is more natural for programming mathematics than\n",
        "    Python. Easier to learn than alternative Python packages.\n",
        "-   Many in economists and finance research use Julia for computational\n",
        "    methods, so it may help you directly\n",
        "\n",
        "## Don’t Worry If You are New to Programming\n",
        "\n",
        "-   Costs of learning languages has decreasing returns to scale\n",
        "    -   Learning the **first programming language is the hardest**\n",
        "-   Julia will come easily if you have the prerequisities (i.e. a course\n",
        "    using Matlab or Python, sadly R is not sufficient preparation)\n",
        "-   Submitting your code in Matlab or Python is not possible given the\n",
        "    course structure and infrastructure\n",
        "\n",
        "# Quantitative, Empirical, and Theoretical Economics\n",
        "\n",
        "## Why Isn’t Big Data ML/Statistics Enough?\n",
        "\n",
        "-   Going well before the big data/ML revolution economists asked\n",
        "    whether they could just use statistical models with enough data\n",
        "    -   Answer: only if you had the right (statistical) model for a\n",
        "        particular experiment, but historical data doesn’t have\n",
        "        variation in crucial directions\n",
        "    -   The right “statistical model” would need to reflect that humans\n",
        "        adapt and make forecasts - responding to policy and incentives\n",
        "    -   Especially difficult in macro because of dynamics and GE effects\n",
        "    -   Cowles Commision, Lucas Critique, Policy Ineffectiveness\n",
        "        Proposition (Sargent and Wallace), Time Inconsistency (Kydland\n",
        "        and Prescott)\n",
        "-   Having more data and fancier statistics doesn’t solve these problems\n",
        "\n",
        "## Forecasts and Distributions\n",
        "\n",
        "-   Summary: conducting experiments with a data generating process (DGP)\n",
        "    is fine, but how to find the right one **for a given problem**?  \n",
        "-   Think probabilistically: the world is a joint distribution of\n",
        "    observables, unobservables (i.e., latent variables), shocks, and\n",
        "    parameters\n",
        "-   Joint distributions let you calculate conditional expectations and\n",
        "    conduct “experiments” by conditioning on different events\n",
        "-   Statistics and machine learning is often criticized as being only\n",
        "    about “prediction” and sometimes “inference”\n",
        "    -   This isn’t quite true, but lets us ask what prediction really\n",
        "        means\n",
        "\n",
        "## Counterfactuals: “What If?”\n",
        "\n",
        "-   Most interesting problems in economics are about counterfactuals\n",
        "    -   What would unemployment have been if the government had not\n",
        "        intervened during the recession?\n",
        "    -   What would have been her income if she had not gone to college,\n",
        "        or if she wasn’t subjected to gender bias?\n",
        "-   By definition these are not observable. If we had the data already\n",
        "    we wouldn’t need to ponder these “What if?”\n",
        "-   How can you answer a question with data that doesn’t exist?"
      ],
      "id": "a97cc406-bc8e-42fb-8f75-2d5a14abaa83"
    },
    {
      "cell_type": "raw",
      "metadata": {
        "raw_mimetype": "text/html"
      },
      "source": [
        "<center>"
      ],
      "id": "894acfad-8441-4d07-980d-6ad64d503ade"
    },
    {
      "cell_type": "markdown",
      "metadata": {},
      "source": [
        "**YOU HAVE TO MAKE SOMETHING UP**"
      ],
      "id": "a65ddfc2-23de-48b7-b60b-78273ddbb50c"
    },
    {
      "cell_type": "raw",
      "metadata": {
        "raw_mimetype": "text/html"
      },
      "source": [
        "</center>"
      ],
      "id": "e6c5617d-35ff-4c9f-87b2-bf4594d7d928"
    },
    {
      "cell_type": "markdown",
      "metadata": {},
      "source": [
        "## The Role of Theory\n",
        "\n",
        "-   There is no data interpretation without some theory - even if it is\n",
        "    sometimes implicit. Interpreting empirical results require\n",
        "    self-reflection\n",
        "-   The role of both data and theory is then to help constrain the set\n",
        "    of possible counterfactuals for the “what if?”\n",
        "-   So any criticisms of ML or statistics as “merely prediction” are\n",
        "    basically a statement on whether the theory makes sense\n",
        "    -   i.e., if you fit $y = f(X) + \\epsilon$ on data to find a\n",
        "        $\\hat{f}(X)$ function, then theory tells you if you made the\n",
        "        right assumptions (e.g., that the $X$ data is representative and\n",
        "        wouldn’t change for your counterfactual of interest, etc)\n",
        "\n",
        "## Approach in this Course\n",
        "\n",
        "-   Always remember: you need assumptions in one form or another because\n",
        "    the counterfactuals are inherently not in the data\n",
        "-   Broadly there are three approaches to conducting counterfactuals.\n",
        "    They are not mutually exclusive\n",
        "    1.  Structural models emphasize theory as structure on the joint\n",
        "        distribution\n",
        "    2.  Causal inference using matching, instrumental variables, etc.\n",
        "        which use theoretical assumptions on independence to adjust for\n",
        "        bias and missing unobservable (latent) variables\n",
        "    3.  Randomized Experiments/Treatment Effects where you can get good\n",
        "        data which truly randomizes some sort of “treatment”.\n",
        "-   In this course we will focus on **simulations and structural\n",
        "    models** - sometimes called “quantitative economics”\n",
        "\n",
        "## Macroeconomic Models Require Lots of Tools\n",
        "\n",
        "-   Conducting macroeconomic counterfactuals requires a lot of tools\n",
        "    because\n",
        "    -   Macroeconomic decisions are dynamic and often stochastic\n",
        "    -   Agents are forward looking\n",
        "    -   Agents interact through markets and prices, which creates\n",
        "        “general equilibrium” effects (i.e., which are inherently\n",
        "        nonlinear)\n",
        "    -   Heterogeneity leads to the distributional being crucial\n",
        "    -   Agent’s may respond to policies by thinking through the dynamic\n",
        "        effects\n",
        "-   We formalize these assumptions with math, but we are rarely able to\n",
        "    solve them analytically. Use a computer!\n",
        "\n",
        "## Tools Topics\n",
        "\n",
        "See Syllabus for more details\n",
        "\n",
        "1.  Linear algebra and basic scientific computing\n",
        "2.  Geometric Series and Discrete Time Dynamics\n",
        "3.  Basic Stochastic Processes\n",
        "4.  Linear State Space Models\n",
        "5.  Markov Chains\n",
        "6.  Dynamic Programming\n",
        "\n",
        "## Applications Topics\n",
        "\n",
        "The tools are interleaved with applications such as\n",
        "\n",
        "1.  Marginal Propensity to Consume\n",
        "2.  Dynamics of Wealth and Distributions\n",
        "3.  Permanent Income Model\n",
        "4.  Models of Unemployment\n",
        "5.  Asset Pricing\n",
        "6.  Lucas Trees and No-arbitrage Option Pricing\n",
        "7.  Recursive Equilibria and the McCall Search Model\n",
        "8.  Time permitting: Rational Expectations and Firm Equilibria, Growth\n",
        "    Models\n",
        "\n",
        "# Computational Environment\n",
        "\n",
        "## Setup\n",
        "\n",
        "-   You can install Julia on your laptop by following [these\n",
        "    instructions](https://julia.quantecon.org/getting_started_julia/getting_started.html)\n",
        "-   While one can use Julia entirely from just Jupyter notebooks, we\n",
        "    will also introduce basic [GitHub](https://github.com/) and [VS\n",
        "    Code](https://code.visualstudio.com/) usage as well to help broaden\n",
        "    your exposure to computational tools.\n",
        "-   So my suggestion is to challenge yourself to learn VS Code, GitHub,\n",
        "    and other tools. Further **signalling** for RA/predoc/jobs/etc.\n",
        "\n",
        "## Summary of Installation\n",
        "\n",
        "1.  Install\n",
        "    [Git](https://git-scm.com/book/en/v2/Getting-Started-Installing-Git/)\n",
        "2.  Install [Anaconda](https://www.anaconda.com/download)\n",
        "3.  Install Julia with\n",
        "    [juliaup](https://github.com/JuliaLang/juliaup#installation)\n",
        "    -   Windows: easiest method is `winget install julia -s msstore` in\n",
        "        a Windows terminal\n",
        "    -   Linux/Mac: in a terminal use\n",
        "        `curl -fsSL https://install.julialang.org | sh`\n",
        "4.  Install [Visual Studio Code (VS\n",
        "    Code)](https://code.visualstudio.com/)\n",
        "5.  Install the [VS Code\n",
        "    Julia](https://marketplace.visualstudio.com/items?itemName=julialang.language-julia)\n",
        "    extension\n",
        "\n",
        "## Some Common Errors on MacOS\n",
        "\n",
        "-   To open a terminal on MacOS\n",
        "\n",
        "    -   Press `Cmd + Space` to open Spotlight, then type `Terminal`\n",
        "    -   Or with VS Code `<Cmd-Shift-P>` then `View: Toggle Terminal`\n",
        "\n",
        "-   If you get permissions problems try\n",
        "\n",
        "        sudo curl -fsSL https://install.julialang.org | sh\n",
        "\n",
        "-   If it still shows errors, then [see\n",
        "    here](https://github.com/JuliaLang/juliaup/wiki/Permission-problems-during-setup)\n",
        "    and do some combo of\n",
        "\n",
        "        sudo chown $(id -u):$(id -g) ~/.bashrc\n",
        "        sudo chown $(id -u):$(id -g) ~/.zshrc\n",
        "        sudo chown $(id -u):$(id -g) ~/.bash_profile\n",
        "\n",
        "    -   Then retry `sudo curl -fsSL https://install.julialang.org | sh`\n",
        "\n",
        "## Clone Notebooks and Install Packages\n",
        "\n",
        "1.  Open the command palette with `<Ctrl+Shift+P>` or `<Cmd+Shift+P>` on\n",
        "    mac and type `> Git: Clone` and choose\n",
        "    `https://github.com/jlperla/undergrad_computational_macro_notebooks`\n",
        "\n",
        "2.  Instantiate packages, in VSCode or\n",
        "\n",
        "    -   Run a terminal in that directory\n",
        "    -   Then `julia` and `]` enters package mode\n",
        "    -   `] add IJulia`, which adds to global environment\n",
        "    -   `] activate`, which chooses the `Project.toml` file\n",
        "    -   `] instantiate`\n",
        "\n",
        "3.  Then use VS Code or `jupyter lab` to open\n",
        "\n",
        "## Julia Environment Basics\n",
        "\n",
        "-   Project files keep track of dependencies and make things\n",
        "    reproducible\n",
        "    -   Similar to Python’s virtual environments but easier to use\n",
        "-   VS Code and Jupyter will automatically activate a `Project.toml`\n",
        "    -   In REPL or Jupyter enter `]` for managing packages\n",
        "    -   Can manually activate with `] activate` or\n",
        "        `] activate path/to/project`\n",
        "    -   On commandline, can use `julia --project`\n",
        "    -   If a file doesn’t exist, then `]activate` creates one for the\n",
        "        folder\n",
        "-   With activated project, use `] instantiate` to install all the\n",
        "    packages\n",
        "-   For this course: no package management required after instantiation\n",
        "\n",
        "## Reproducibility\n",
        "\n",
        "-   **ALWAYS** use a `Project.toml` file\n",
        "    -   Keep your global environment as clean\n",
        "    -   Enough to do `] add IJulia`\n",
        "-   Associated with `Project.toml` is a `Manifest.toml` file which\n",
        "    establishes the exact versions for reproducibility\n",
        "    -   `] instantiate` will install the exact versions\n",
        "    -   Less important for us, but very useful for reproducibility in\n",
        "        research to distribute with project\n",
        "\n",
        "# Crash Course on Julia\n",
        "\n",
        "## Introductory Lectures\n",
        "\n",
        "-   Assuming you are familiar with Matlab or Python, Julia will be easy\n",
        "    to learn\n",
        "-   Adapted from QuantEcon lectures coauthored with John Stachurski and\n",
        "    Thomas J. Sargent\n",
        "    -   [Julia by\n",
        "        Example](https://julia.quantecon.org/getting_started_julia/julia_by_example.html)\n",
        "    -   [Essentials](https://julia.quantecon.org/getting_started_julia/julia_essentials.html)\n",
        "    -   [Fundamental\n",
        "        Types](https://julia.quantecon.org/getting_started_julia/fundamental_types.html)\n",
        "\n",
        "## Using Packages\n",
        "\n",
        "-   First ensure your project is activated and packages instantiated"
      ],
      "id": "22d103c7-95c6-4705-89fd-ac0c6fac4d4f"
    },
    {
      "cell_type": "code",
      "execution_count": 2,
      "metadata": {},
      "outputs": [],
      "source": [
        "using LinearAlgebra, Statistics, Plots"
      ],
      "id": "36041adf"
    },
    {
      "cell_type": "markdown",
      "metadata": {},
      "source": [
        "## Plotting Random Numbers"
      ],
      "id": "cdc47056-f3da-4890-8e27-c570ecc11c6c"
    },
    {
      "cell_type": "code",
      "execution_count": 3,
      "metadata": {
        "output-location": "column"
      },
      "outputs": [
        {
          "output_type": "display_data",
          "metadata": {},
          "data": {
            "text/html": [
              "<img src=\"data:image/png;base64,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\" />"
            ]
          }
        }
      ],
      "source": [
        "n = 20\n",
        "ep = randn(n)\n",
        "plot(1:n, ep;size=(600,400))"
      ],
      "id": "a186bdb3"
    },
    {
      "cell_type": "markdown",
      "metadata": {},
      "source": [
        "## Loops"
      ],
      "id": "3d19055d-a2d9-4359-bfec-9cdb82d55bd3"
    },
    {
      "cell_type": "code",
      "execution_count": 4,
      "metadata": {},
      "outputs": [
        {
          "output_type": "stream",
          "name": "stdout",
          "text": [
            "[-0.37120229663143883, 0.3629908999433105, -0.19143815680093068, -0.33816882184296554, -1.0684578714917723]"
          ]
        }
      ],
      "source": [
        "n = 100\n",
        "ep = zeros(n)\n",
        "for i in 1:n\n",
        "    ep[i] = randn()\n",
        "end\n",
        "println(ep[1:5])"
      ],
      "id": "bef75ef4"
    },
    {
      "cell_type": "markdown",
      "metadata": {},
      "source": [
        "## Comprehensions"
      ],
      "id": "795bfb03-413b-48cd-9779-e3ee4eb19d3f"
    },
    {
      "cell_type": "code",
      "execution_count": 5,
      "metadata": {},
      "outputs": [
        {
          "output_type": "stream",
          "name": "stdout",
          "text": [
            "[2i for i = 1:4] = [2, 4, 6, 8]"
          ]
        }
      ],
      "source": [
        "# Comprehensions\n",
        "@show [2 * i for i in 1:4];"
      ],
      "id": "be09bb4f"
    },
    {
      "cell_type": "markdown",
      "metadata": {},
      "source": [
        "## Manually Calculated Mean"
      ],
      "id": "4f1ddafb-d16b-4256-8801-5c7261531334"
    },
    {
      "cell_type": "code",
      "execution_count": 6,
      "metadata": {},
      "outputs": [
        {
          "output_type": "stream",
          "name": "stdout",
          "text": [
            "ep_mean = ep_sum / length(ep) = 0.0821116609058209\n",
            "ep_mean ≈ mean(ep) = true\n",
            "ep_mean = 0.0821116609058209\n",
            "sum(ep) / length(ep) = 0.08211166090582092\n",
            "sum((ep_val for ep_val = ep)) / length(ep) = 0.0821116609058209"
          ]
        }
      ],
      "source": [
        "ep_sum = 0.0 # careful to use 0.0 here, instead of 0\n",
        "for ep_val in ep\n",
        "    ep_sum = ep_sum + ep_val\n",
        "end\n",
        "@show ep_mean = ep_sum / length(ep)\n",
        "@show ep_mean ≈ mean(ep)\n",
        "@show ep_mean\n",
        "@show sum(ep) / length(ep)\n",
        "@show sum(ep_val for ep_val in ep) / length(ep); # generator/comprehension"
      ],
      "id": "8b895f29"
    },
    {
      "cell_type": "markdown",
      "metadata": {},
      "source": [
        "## Functions"
      ],
      "id": "3553d37f-a8c9-4c91-b30b-6ba8d548f11c"
    },
    {
      "cell_type": "code",
      "execution_count": 7,
      "metadata": {},
      "outputs": [
        {
          "output_type": "stream",
          "name": "stdout",
          "text": [
            "[0.9394375082401412, 0.0005698812986176784, 0.16435270869877938, 0.08360300329247371, 0.3075093793693288]"
          ]
        }
      ],
      "source": [
        "function generatedata(n)\n",
        "    ep = randn(n) # use built in function\n",
        "    for i in eachindex(ep) # or i in 1:length(ep)\n",
        "        ep[i] = ep[i]^2 # squaring the result\n",
        "    end\n",
        "    return ep\n",
        "end\n",
        "data = generatedata(5)\n",
        "println(data)"
      ],
      "id": "78d57b22"
    },
    {
      "cell_type": "markdown",
      "metadata": {},
      "source": [
        "## Broadcasting"
      ],
      "id": "9d9a21f0-8244-46c1-9788-bb1cecd3b65b"
    },
    {
      "cell_type": "code",
      "execution_count": 8,
      "metadata": {},
      "outputs": [
        {
          "output_type": "stream",
          "name": "stdout",
          "text": [
            "generatedata(5) = [4.541997192158337, 0.09670558781022243, 3.4540874476154637, 0.12003560715666206, 0.8502269887381337]\n",
            "generatedata2(5) = [0.9786327593738468, 1.2658773278226614, 1.129701794582556, 2.0030663926815184, 0.4988543828249064]"
          ]
        }
      ],
      "source": [
        "function generatedata(n)\n",
        "    ep = randn(n) # use built in function\n",
        "    return ep .^ 2\n",
        "end\n",
        "@show generatedata(5)\n",
        "generatedata2(n) = randn(n) .^ 2\n",
        "@show generatedata2(5);"
      ],
      "id": "afb4eccc"
    },
    {
      "cell_type": "markdown",
      "metadata": {},
      "source": [
        "## Higher Order Functions"
      ],
      "id": "4946df7a-2a99-4937-bac4-260b341d38cf"
    },
    {
      "cell_type": "code",
      "execution_count": 9,
      "metadata": {},
      "outputs": [
        {
          "output_type": "stream",
          "name": "stdout",
          "text": [
            "generatedata3(5, f) = [0.8330945749097721, 0.7239104006284401, 0.8818328576358658, 0.5958283636743757, 1.2122843621107158]"
          ]
        }
      ],
      "source": [
        "generatedata3(n, gen) = gen.(randn(n)) # broadcasts on gen\n",
        "f(x) = x^2 # simple square function\n",
        "@show generatedata3(5, f); # applies f"
      ],
      "id": "c473125d"
    },
    {
      "cell_type": "markdown",
      "metadata": {},
      "source": [
        "## More Plotting Examples"
      ],
      "id": "bf177d2f-2265-4dcb-a6d5-4ecf6b9c0276"
    },
    {
      "cell_type": "code",
      "execution_count": 10,
      "metadata": {
        "output-location": "column"
      },
      "outputs": [
        {
          "output_type": "display_data",
          "metadata": {},
          "data": {
            "text/html": [
              "<img src=\"data:image/png;base64,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\" />"
            ]
          }
        }
      ],
      "source": [
        "using Distributions\n",
        "function plothistogram(dist, n)\n",
        "    # n draws from distribution\n",
        "    ep = rand(dist, n) \n",
        "    return histogram(ep;size=(600,400))\n",
        "end\n",
        "dist = Laplace() # dist != dist in function\n",
        "plothistogram(dist, 500)"
      ],
      "id": "0532738b"
    },
    {
      "cell_type": "markdown",
      "metadata": {},
      "source": [
        "## Changing Types\n",
        "\n",
        "-   The `rand(dist, n)` changes its behavior based on the type of `dist`"
      ],
      "id": "3578bee3-437b-4ec2-96f0-197ed5943c9b"
    },
    {
      "cell_type": "code",
      "execution_count": 11,
      "metadata": {
        "output-location": "column"
      },
      "outputs": [
        {
          "output_type": "display_data",
          "metadata": {},
          "data": {
            "text/html": [
              "<img src=\"data:image/png;base64,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\" />"
            ]
          }
        }
      ],
      "source": [
        "dist = Normal()\n",
        "plothistogram(Normal(), 500)"
      ],
      "id": "ab68a367"
    },
    {
      "cell_type": "markdown",
      "metadata": {},
      "source": [
        "## Ranges"
      ],
      "id": "7eeb7cc9-a327-498e-a534-e66a173d9813"
    },
    {
      "cell_type": "code",
      "execution_count": 12,
      "metadata": {
        "output-location": "column"
      },
      "outputs": [
        {
          "output_type": "stream",
          "name": "stdout",
          "text": [
            "x = 0.0:0.25:1.0\n",
            "Vector(x) = [0.0, 0.25, 0.5, 0.75, 1.0]"
          ]
        },
        {
          "output_type": "display_data",
          "metadata": {},
          "data": {
            "text/html": [
              "<img src=\"data:image/png;base64,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\" />"
            ]
          }
        }
      ],
      "source": [
        "x = range(0.0, 1.0; length = 5)\n",
        "@show x\n",
        "@show Vector(x)\n",
        "plot(x, sqrt.(x);size=(600,400))"
      ],
      "id": "8641f06a"
    },
    {
      "cell_type": "markdown",
      "metadata": {},
      "source": [
        "## Defining Functions\n",
        "\n",
        "-   You can create anonymous functions as in R, but it is harder for the\n",
        "    compiler because the type `f3` can change. Avoid `->` if name\n",
        "    required"
      ],
      "id": "55ee121f-6672-4bdd-9eac-648f9d0a7232"
    },
    {
      "cell_type": "code",
      "execution_count": 13,
      "metadata": {},
      "outputs": [
        {
          "output_type": "stream",
          "name": "stdout",
          "text": [
            "(f(2), f2(2), f3(2)) = (4, 4, 4)"
          ]
        }
      ],
      "source": [
        "f(x) = x^2\n",
        "function f2(x)\n",
        "    return x^2\n",
        "end\n",
        "f3 = x -> x^2 # assignment not required\n",
        "@show f(2), f2(2), f3(2);"
      ],
      "id": "70e0be03"
    },
    {
      "cell_type": "markdown",
      "metadata": {},
      "source": [
        "## Default Arguments"
      ],
      "id": "021b8d34-cbec-4d38-8c2f-54ab3321d0f1"
    },
    {
      "cell_type": "code",
      "execution_count": 14,
      "metadata": {},
      "outputs": [
        {
          "output_type": "stream",
          "name": "stdout",
          "text": [
            "f(pi) = 0.36787944117144233\n",
            "f(pi, 2) = 2.718281828459045"
          ]
        }
      ],
      "source": [
        "f(x, a = 1) = exp(cos(a * x))\n",
        "@show f(pi)\n",
        "@show f(pi, 2);"
      ],
      "id": "e78cf57e"
    },
    {
      "cell_type": "markdown",
      "metadata": {},
      "source": [
        "## Keyword Arguments"
      ],
      "id": "efceb856-2381-433c-89a7-cc1077bed5ad"
    },
    {
      "cell_type": "code",
      "execution_count": 15,
      "metadata": {},
      "outputs": [
        {
          "output_type": "stream",
          "name": "stdout",
          "text": [
            "f(pi) = 0.36787944117144233\n",
            "f(pi; a = 2) = 2.718281828459045\n",
            "f(pi; a) = 2.718281828459045"
          ]
        }
      ],
      "source": [
        "f2(x; a = 1) = exp(cos(a * x))  # note the ; in the definition\n",
        "# same as longform\n",
        "function f(x; a = 1)\n",
        "    return exp(cos(a * x))\n",
        "end\n",
        "@show f(pi)\n",
        "@show f(pi; a = 2) # passing in adate\n",
        "a = 2\n",
        "@show f(pi; a); # equivalent to f(pi; a = a)"
      ],
      "id": "08429881"
    },
    {
      "cell_type": "markdown",
      "metadata": {},
      "source": [
        "## Closures\n",
        "\n",
        "-   In general, try to avoid globals and closures outside of functions"
      ],
      "id": "d585843e-b438-4b83-b489-717eded9923e"
    },
    {
      "cell_type": "code",
      "execution_count": 16,
      "metadata": {},
      "outputs": [
        {
          "output_type": "stream",
          "name": "stdout",
          "text": [
            "f(1) = 0.2\n",
            "f(1) = 0.3"
          ]
        }
      ],
      "source": [
        "a = 0.2\n",
        "f(x) = a * x^2  # refers to the `a` in the outer scope\n",
        "@show f(1)\n",
        "# The a is captured in this scope by name.  Careful!\n",
        "a = 0.3\n",
        "@show f(1);"
      ],
      "id": "e916e7a0"
    },
    {
      "cell_type": "markdown",
      "metadata": {},
      "source": [
        "## Closures Inside Functions\n",
        "\n",
        "-   But within a function they are safe, common, and usually free of\n",
        "    overhead"
      ],
      "id": "674c63d9-405d-46f0-b998-7eb7f639d0b0"
    },
    {
      "cell_type": "code",
      "execution_count": 17,
      "metadata": {},
      "outputs": [
        {
          "output_type": "stream",
          "name": "stdout",
          "text": [
            "g(0.2) = 0.2"
          ]
        }
      ],
      "source": [
        "function g(a)\n",
        "    f(x) = a * x^2  # refers to the `a` passed in the function\n",
        "    return f(1)\n",
        "end\n",
        "a = 123.5 # Different scope than the `a` in function\n",
        "@show g(0.2);"
      ],
      "id": "6e65dfd3"
    },
    {
      "cell_type": "markdown",
      "metadata": {},
      "source": [
        "## Tuples and Named Tuples"
      ],
      "id": "064481b9-d40d-468b-b5bc-4049bf66b309"
    },
    {
      "cell_type": "code",
      "execution_count": 18,
      "metadata": {},
      "outputs": [
        {
          "output_type": "stream",
          "name": "stdout",
          "text": [
            "t[1] = 1\n",
            "nt = (a = 1, b = 2.0, c = \"hello\")\n",
            "nt.a = 1"
          ]
        }
      ],
      "source": [
        "t = (1, 2.0, \"hello\")\n",
        "@show t[1]\n",
        "nt = (;a = 1, b = 2.0, c = \"hello\")\n",
        "@show nt\n",
        "@show nt.a; # can't use nt[1] or nt[\"a\"]"
      ],
      "id": "581bd9fe"
    },
    {
      "cell_type": "markdown",
      "metadata": {},
      "source": [
        "## Tuples Packing and Unpacking"
      ],
      "id": "67ba9914-4570-469d-a7e6-120175530fb1"
    },
    {
      "cell_type": "code",
      "execution_count": 19,
      "metadata": {},
      "outputs": [
        {
          "output_type": "stream",
          "name": "stdout",
          "text": [
            "solve_model(0.1) = (a = 0.010000000000000002, b = 0.020000000000000004, c = 0.030000000000000006)\n",
            "a = 0.010000000000000002, c = 0.030000000000000006"
          ]
        }
      ],
      "source": [
        "function solve_model(x)\n",
        "    a = x^2\n",
        "    b = 2 * a\n",
        "    c = a + b\n",
        "    return (; a, b, c)  # note local scope of tuples!\n",
        "end\n",
        "@show solve_model(0.1)\n",
        "# can unpack in different order, or use subset of values\n",
        "(; c, a) = solve_model(0.1)\n",
        "println(\"a = $a, c = $c\");"
      ],
      "id": "fc669199"
    },
    {
      "cell_type": "markdown",
      "metadata": {},
      "source": [
        "## Array Basics"
      ],
      "id": "4f6605ed-e62b-4977-bbc4-0700b192c516"
    },
    {
      "cell_type": "code",
      "execution_count": 20,
      "metadata": {
        "output-location": "column"
      },
      "outputs": [
        {
          "output_type": "stream",
          "name": "stdout",
          "text": [
            "size(b) = (3,)\n",
            "size(A) = (2, 2)\n",
            "typeof(b) = Vector{Float64}\n",
            "typeof(A) = Matrix{Int64}\n",
            "zeros(3) = [0.0, 0.0, 0.0]\n",
            "ones(2, 2) = [1.0 1.0; 1.0 1.0]\n",
            "fill(1.0, 2, 2) = [1.0 1.0; 1.0 1.0]\n",
            "similar(A) = [12 140170886805840; 17 140170886805872]\n",
            "A[1, 1] = 1\n",
            "A[1, :] = [1, 2]\n",
            "A[1:end, 1] = [1, 3]"
          ]
        }
      ],
      "source": [
        "b = [1.0, 2.1, 3.0] # 1d array\n",
        "A = [1 2; 3 4] # 2x2 matrix\n",
        "@show size(b)\n",
        "@show size(A)\n",
        "@show typeof(b)\n",
        "@show typeof(A)\n",
        "@show zeros(3)\n",
        "@show ones(2, 2)\n",
        "@show fill(1.0, 2, 2)\n",
        "@show similar(A)\n",
        "@show A[1, 1]\n",
        "@show A[1, :]\n",
        "@show A[1:end, 1];"
      ],
      "id": "146f58e2"
    },
    {
      "cell_type": "markdown",
      "metadata": {},
      "source": [
        "## Linear Algebra Basics"
      ],
      "id": "4d57e1de-a677-4c16-97a1-d5ed3af573ab"
    },
    {
      "cell_type": "code",
      "execution_count": 21,
      "metadata": {
        "output-location": "column"
      },
      "outputs": [
        {
          "output_type": "stream",
          "name": "stdout",
          "text": [
            "A * b = [5, 11]\n",
            "A' = [1 3; 2 4]\n",
            "dot(b, [5.0, 2.0]) = 9.0\n",
            "b' * b = 5\n",
            "Diagonal([1.0, 2.0]) = [1.0 0.0; 0.0 2.0]\n",
            "I = UniformScaling{Bool}(true)\n",
            "inv(A) = [-1.9999999999999996 0.9999999999999998; 1.4999999999999998 -0.4999999999999999]"
          ]
        }
      ],
      "source": [
        "A = [1 2; 3 4]\n",
        "b = [1, 2]\n",
        "@show A * b # Matrix product\n",
        "@show A' # transpose\n",
        "@show dot(b, [5.0, 2.0]) # dot product\n",
        "@show b' * b # dot product\n",
        "@show Diagonal([1.0, 2.0]) # diagonal matrix\n",
        "@show I # identity matrix\n",
        "@show inv(A); # inverse"
      ],
      "id": "18bc9091"
    },
    {
      "cell_type": "markdown",
      "metadata": {},
      "source": [
        "## Modifying Vectors\n",
        "\n",
        "-   Scalars and tuples/named tuples are immutable\n",
        "-   Vectors and matrices are mutable"
      ],
      "id": "fc653e57-c90e-4115-84bf-a4bfd4d99972"
    },
    {
      "cell_type": "code",
      "execution_count": 22,
      "metadata": {
        "output-location": "column"
      },
      "outputs": [
        {
          "output_type": "stream",
          "name": "stdout",
          "text": [
            "A = [2 2; 3 4]\n",
            "b = [2, 2]\n",
            "b = [3, 4]\n",
            "A = [3 4; 3 4]"
          ]
        }
      ],
      "source": [
        "A = [1 2; 3 4]\n",
        "A[1, 1] = 2\n",
        "@show A\n",
        "b = [1, 2]\n",
        "b[1] = 2\n",
        "@show b\n",
        "b .= [3, 4] # otherwise just renamed\n",
        "@show b\n",
        "A[1, :] .= [3, 4] # assign slice\n",
        "@show A;"
      ],
      "id": "eb34c83e"
    },
    {
      "cell_type": "markdown",
      "metadata": {},
      "source": [
        "## Learning More\n",
        "\n",
        "-   Clone the QuantEcon lectures\n",
        "    -   `> Git: Clone` the\n",
        "        `https://github.com/quantecon/lecture-julia.notebooks`\n",
        "-   This covers part of [Julia\n",
        "    Essentials](https://julia.quantecon.org/getting_started_julia/julia_essentials.html)\n",
        "    and [Fundamental\n",
        "    Types](https://julia.quantecon.org/getting_started_julia/fundamental_types.html)\n",
        "-   Other more advanced lectures, not required for this course, are\n",
        "    -   [Introduction to Types and Generic\n",
        "        Programming](https://julia.quantecon.org/more_julia/generic_programming.html)\n",
        "    -   [Generic\n",
        "        Programming](https://julia.quantecon.org/more_julia/generic_programming.html)\n",
        "    -   [Visual Studio and Other\n",
        "        Tools](https://julia.quantecon.org/software_engineering/tools_editors.html)"
      ],
      "id": "02c56dd0-311d-4198-9c41-960270a50a32"
    }
  ],
  "nbformat": 4,
  "nbformat_minor": 5,
  "metadata": {
    "kernelspec": {
      "name": "julia-1.11",
      "display_name": "Julia 1.11.4",
      "language": "julia",
      "path": "/home/runner/.local/share/jupyter/kernels/julia-1.11"
    },
    "language_info": {
      "name": "julia",
      "file_extension": ".jl",
      "mimetype": "application/julia",
      "version": "1.11.4"
    }
  }
}