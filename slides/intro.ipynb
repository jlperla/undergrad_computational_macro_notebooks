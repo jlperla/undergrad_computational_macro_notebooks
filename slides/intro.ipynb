{
  "cells": [
    {
      "cell_type": "markdown",
      "metadata": {},
      "source": [
        "# Course Overview and Computational Environment\n",
        "\n",
        "Undergraduate Computational Macro\n",
        "\n",
        "Jesse Perla (University of British Columbia)\n",
        "\n",
        "# Course Overview and Objectives\n",
        "\n",
        "## Course Structure and Prerequisites\n",
        "\n",
        "-   “Macroconomics on a computer”. Mostly macro-finance and macro-labor\n",
        "    -   Not an intro to programming course or stats/econometrics class\n",
        "    -   Less programming than ECON323, more math and theory\n",
        "-   Build experience with computational tools and structural models in\n",
        "    macroeconomics which can help you conduct “counterfactuals”\n",
        "    -   Lots of simulation, but not much data or empirics\n",
        "    -   Complement to other courses focusing on “field” topics,\n",
        "        empirics, estimation, inference, datascience, etc.\n",
        "\n",
        "## Prerequisites\n",
        "\n",
        "-   You need to have\n",
        "    -   One of ECON 301, ECON 304, ECON 308\n",
        "    -   One of ECON 323, CPSC 103, CPSC 110, MATH 210, COMM 337\n",
        "    -   One of MATH 221, MATH 223.\n",
        "-   **Not negotiable** to have intermediate micro\n",
        "-   **Not negotiable** to have the formal programming class in some\n",
        "    general purpose language (e.g., Stata and R don’t count, self-study\n",
        "    isn’t enough)\n",
        "-   Math requirement you can talk to me, especially if you took ECON307\n",
        "    or have significant background in linear algebra and multivariate\n",
        "    calculus\n",
        "\n",
        "## Assessments\n",
        "\n",
        "-   Grading:\n",
        "    -   6-8 problem sets: 20% (total)\n",
        "    -   Midterm exam: 30%\n",
        "    -   Final exam: 50%\n",
        "-   Midterm and final examinations will be done in a computer lab or on\n",
        "    your own computer in class. Not testing programming skills\n",
        "-   Problem sets will start off short and easy to help those with less\n",
        "    programming experience, and then build in (economics) complexity.\n",
        "-   See the [syllabus](../pages/syllabus.qmd) for missed exam policies\n",
        "\n",
        "# Programming Languages\n",
        "\n",
        "## Which Language?\n",
        "\n",
        "-   Plenty of languages used in economics and finance: Matlab, Python,\n",
        "    Julia, Fortran, C++, Stata, Dynare, R, Stan…\n",
        "    -   All are great for some things, and terrible for others\n",
        "    -   Some are highly specialized and less general purpose than others\n",
        "        (e.g. Stata and R)\n",
        "-   I love specialized languages! But…\n",
        "    -   My philosophy is you will need to learn **at least** two general\n",
        "        purpose programming languages over your career.\n",
        "\n",
        "## Benefits of Learning more Languages\n",
        "\n",
        "Plan for your longrun career, languages come and go…\n",
        "\n",
        "-   The 2nd language makes you a better programmer at both\n",
        "-   The 3rd is even easier as you learn similarities and differences\n",
        "-   On grad school or job applications everyone says they know Python\n",
        "    -   Differentiator to credibly claim you know another serious\n",
        "        language\n",
        "    -   Increasingly important to **signal** computational\n",
        "        sophistication to get jobs\n",
        "    -   Julia is as good as any for that purpose\n",
        "\n",
        "## Advantages of Learning Julia for Economics and Finance\n",
        "\n",
        "-   Python is great for datascience and ML, but “ugly”, verbose, and\n",
        "    slow to use directly for many simulations and computational methods\n",
        "    -   Python wrappers for high-performance code used in ML are great\n",
        "    -   But when an appropriate framework doesn’t exist, writing fast\n",
        "        code yourself in Python is much harder than in Julia\n",
        "    -   Performance in Python usually means C++ or frameworks like JAX\n",
        "-   Julia (and Matlab) is more natural for programming mathematics than\n",
        "    Python. Easier to learn than alternative Python packages.\n",
        "-   Many in economists and finance research use Julia for computational\n",
        "    methods, so it may help you directly\n",
        "\n",
        "## Don’t Worry If You are New to Programming\n",
        "\n",
        "-   Costs of learning languages has decreasing returns to scale\n",
        "    -   Learning the **first programming language is the hardest**\n",
        "-   Julia will come easily if you have the prerequisities (i.e. a course\n",
        "    using Matlab or Python, sadly R is not sufficient preparation)\n",
        "-   Submitting your code in Matlab or Python is not possible given the\n",
        "    course structure and infrastructure\n",
        "\n",
        "# Quantitative, Empirical, and Theoretical Economics\n",
        "\n",
        "## Why Isn’t Big Data ML/Statistics Enough?\n",
        "\n",
        "-   Going well before the big data/ML revolution economists asked\n",
        "    whether they could just use statistical models with enough data\n",
        "    -   Answer: only if you had the right (statistical) model for a\n",
        "        particular experiment, but historical data doesn’t have\n",
        "        variation in crucial directions\n",
        "    -   The right “statistical model” would need to reflect that humans\n",
        "        adapt and make forecasts - responding to policy and incentives\n",
        "    -   Especially difficult in macro because of dynamics and GE effects\n",
        "    -   Cowles Commision, Lucas Critique, Policy Ineffectiveness\n",
        "        Proposition (Sargent and Wallace), Time Inconsistency (Kydland\n",
        "        and Prescott)\n",
        "-   Having more data and fancier statistics doesn’t solve these problems\n",
        "\n",
        "## Forecasts and Distributions\n",
        "\n",
        "-   Summary: conducting experiments with a data generating process (DGP)\n",
        "    is fine, but how to find the right one **for a given problem**?  \n",
        "-   Think probabilistically: the world is a joint distribution of\n",
        "    observables, unobservables (i.e., latent variables), shocks, and\n",
        "    parameters\n",
        "-   Joint distributions let you calculate conditional expectations and\n",
        "    conduct “experiments” by conditioning on different events\n",
        "-   Statistics and machine learning is often criticized as being only\n",
        "    about “prediction” and sometimes “inference”\n",
        "    -   This isn’t quite true, but lets us ask what prediction really\n",
        "        means\n",
        "\n",
        "## Counterfactuals: “What If?”\n",
        "\n",
        "-   Most interesting problems in economics are about counterfactuals\n",
        "    -   What would unemployment have been if the government had not\n",
        "        intervened during the recession?\n",
        "    -   What would have been her income if she had not gone to college,\n",
        "        or if she wasn’t subjected to gender bias?\n",
        "-   By definition these are not observable. If we had the data already\n",
        "    we wouldn’t need to ponder these “What if?”\n",
        "-   How can you answer a question with data that doesn’t exist?"
      ],
      "id": "d5bd6e2c-ce31-4a59-bb61-e4e687126ff8"
    },
    {
      "cell_type": "raw",
      "metadata": {
        "raw_mimetype": "text/html"
      },
      "source": [
        "<center>"
      ],
      "id": "8659823a-dbca-4e2f-a4bb-a1e1f1599a4b"
    },
    {
      "cell_type": "markdown",
      "metadata": {},
      "source": [
        "**YOU HAVE TO MAKE SOMETHING UP**"
      ],
      "id": "4e60654f-2838-4344-acb2-d7e39a0778ed"
    },
    {
      "cell_type": "raw",
      "metadata": {
        "raw_mimetype": "text/html"
      },
      "source": [
        "</center>"
      ],
      "id": "eb3a6403-a090-4eb0-b0c2-3e4b087cd7ef"
    },
    {
      "cell_type": "markdown",
      "metadata": {},
      "source": [
        "## The Role of Theory\n",
        "\n",
        "-   There is no data interpretation without some theory - even if it is\n",
        "    sometimes implicit. Interpreting empirical results require\n",
        "    self-reflection\n",
        "-   The role of both data and theory is then to help constrain the set\n",
        "    of possible counterfactuals for the “what if?”\n",
        "-   So any criticisms of ML or statistics as “merely prediction” are\n",
        "    basically a statement on whether the theory makes sense\n",
        "    -   i.e., if you fit $y = f(X) + \\epsilon$ on data to find a\n",
        "        $\\hat{f}(X)$ function, then theory tells you if you made the\n",
        "        right assumptions (e.g., that the $X$ data is representative and\n",
        "        wouldn’t change for your counterfactual of interest, etc)\n",
        "\n",
        "## Approach in this Course\n",
        "\n",
        "-   Always remember: you need assumptions in one form or another because\n",
        "    the counterfactuals are inherently not in the data\n",
        "-   Broadly there are three approaches to conducting counterfactuals.\n",
        "    They are not mutually exclusive\n",
        "    1.  Structural models emphasize theory as structure on the joint\n",
        "        distribution\n",
        "    2.  Causal inference using matching, instrumental variables, etc.\n",
        "        which use theoretical assumptions on independence to adjust for\n",
        "        bias and missing unobservable (latent) variables\n",
        "    3.  Randomized Experiments/Treatment Effects where you can get good\n",
        "        data which truly randomizes some sort of “treatment”.\n",
        "-   In this course we will focus on **simulations and structural\n",
        "    models** - sometimes called “quantitative economics”\n",
        "\n",
        "## Macroeconomic Models Require Lots of Tools\n",
        "\n",
        "-   Conducting macroeconomic counterfactuals requires a lot of tools\n",
        "    because\n",
        "    -   Macroeconomic decisions are dynamic and often stochastic\n",
        "    -   Agents are forward looking\n",
        "    -   Agents interact through markets and prices, which creates\n",
        "        “general equilibrium” effects (i.e., which are inherently\n",
        "        nonlinear)\n",
        "    -   Heterogeneity leads to the distributional being crucial\n",
        "    -   Agent’s may respond to policies by thinking through the dynamic\n",
        "        effects\n",
        "-   We formalize these assumptions with math, but we are rarely able to\n",
        "    solve them analytically. Use a computer!\n",
        "\n",
        "## Tools Topics\n",
        "\n",
        "See Syllabus for more details\n",
        "\n",
        "1.  Linear algebra and basic scientific computing\n",
        "2.  Geometric Series and Discrete Time Dynamics\n",
        "3.  Basic Stochastic Processes\n",
        "4.  Linear State Space Models\n",
        "5.  Markov Chains\n",
        "6.  Dynamic Programming\n",
        "\n",
        "## Applications Topics\n",
        "\n",
        "The tools are interleaved with applications such as\n",
        "\n",
        "1.  Marginal Propensity to Consume\n",
        "2.  Dynamics of Wealth and Distributions\n",
        "3.  Permanent Income Model\n",
        "4.  Models of Unemployment\n",
        "5.  Asset Pricing\n",
        "6.  Lucas Trees and No-arbitrage Option Pricing\n",
        "7.  Recursive Equilibria and the McCall Search Model\n",
        "8.  Time permitting: Rational Expectations and Firm Equilibria, Growth\n",
        "    Models\n",
        "\n",
        "# Computational Environment\n",
        "\n",
        "## Setup\n",
        "\n",
        "-   You can install Julia on your laptop by following [these\n",
        "    instructions](https://julia.quantecon.org/getting_started_julia/getting_started.html)\n",
        "-   While one can use Julia entirely from just Jupyter notebooks, we\n",
        "    will also introduce basic [GitHub](https://github.com/) and [VS\n",
        "    Code](https://code.visualstudio.com/) usage as well to help broaden\n",
        "    your exposure to computational tools.\n",
        "-   So my suggestion is to challenge yourself to learn VS Code, GitHub,\n",
        "    and other tools. Further **signalling** for RA/predoc/jobs/etc.\n",
        "\n",
        "## Summary of Installation\n",
        "\n",
        "1.  Install\n",
        "    [Git](https://git-scm.com/book/en/v2/Getting-Started-Installing-Git/)\n",
        "2.  Install [Anaconda](https://www.anaconda.com/download)\n",
        "3.  Install Julia with\n",
        "    [juliaup](https://github.com/JuliaLang/juliaup#installation)\n",
        "    -   Windows: easiest method is `winget install julia -s msstore` in\n",
        "        a Windows terminal\n",
        "    -   Linux/Mac: in a terminal use\n",
        "        `curl -fsSL https://install.julialang.org | sh`\n",
        "4.  Install [Visual Studio Code (VS\n",
        "    Code)](https://code.visualstudio.com/)\n",
        "5.  Install the [VS Code\n",
        "    Julia](https://marketplace.visualstudio.com/items?itemName=julialang.language-julia)\n",
        "    extension\n",
        "\n",
        "## Some Common Errors on MacOS\n",
        "\n",
        "-   To open a terminal on MacOS\n",
        "\n",
        "    -   Press `Cmd + Space` to open Spotlight, then type `Terminal`\n",
        "    -   Or with VS Code `<Cmd-Shift-P>` then `View: Toggle Terminal`\n",
        "\n",
        "-   If you get permissions problems try\n",
        "\n",
        "        sudo curl -fsSL https://install.julialang.org | sh\n",
        "\n",
        "-   If it still shows errors, then [see\n",
        "    here](https://github.com/JuliaLang/juliaup/wiki/Permission-problems-during-setup)\n",
        "    and do some combo of\n",
        "\n",
        "        sudo chown $(id -u):$(id -g) ~/.bashrc\n",
        "        sudo chown $(id -u):$(id -g) ~/.zshrc\n",
        "        sudo chown $(id -u):$(id -g) ~/.bash_profile\n",
        "\n",
        "    -   Then retry `sudo curl -fsSL https://install.julialang.org | sh`\n",
        "\n",
        "## Clone Notebooks and Install Packages\n",
        "\n",
        "1.  Open the command palette with `<Ctrl+Shift+P>` or `<Cmd+Shift+P>` on\n",
        "    mac and type `> Git: Clone` and choose\n",
        "    `https://github.com/jlperla/undergrad_computational_macro_notebooks`\n",
        "\n",
        "2.  Instantiate packages, in VSCode or\n",
        "\n",
        "    -   Run a terminal in that directory\n",
        "    -   Then `julia` and `]` enters package mode\n",
        "    -   `] add IJulia`, which adds to global environment\n",
        "    -   `] activate`, which chooses the `Project.toml` file\n",
        "    -   `] instantiate`\n",
        "\n",
        "3.  Then use VS Code or `jupyter lab` to open\n",
        "\n",
        "## Julia Environment Basics\n",
        "\n",
        "-   Project files keep track of dependencies and make things\n",
        "    reproducible\n",
        "    -   Similar to Python’s virtual environments but easier to use\n",
        "-   VS Code and Jupyter will automatically activate a `Project.toml`\n",
        "    -   In REPL or Jupyter enter `]` for managing packages\n",
        "    -   Can manually activate with `] activate` or\n",
        "        `] activate path/to/project`\n",
        "    -   On commandline, can use `julia --project`\n",
        "    -   If a file doesn’t exist, then `]activate` creates one for the\n",
        "        folder\n",
        "-   With activated project, use `] instantiate` to install all the\n",
        "    packages\n",
        "-   For this course: no package management required after instantiation\n",
        "\n",
        "## Reproducibility\n",
        "\n",
        "-   **ALWAYS** use a `Project.toml` file\n",
        "    -   Keep your global environment as clean\n",
        "    -   Enough to do `] add IJulia`\n",
        "-   Associated with `Project.toml` is a `Manifest.toml` file which\n",
        "    establishes the exact versions for reproducibility\n",
        "    -   `] instantiate` will install the exact versions\n",
        "    -   Less important for us, but very useful for reproducibility in\n",
        "        research to distribute with project\n",
        "\n",
        "# Crash Course on Julia\n",
        "\n",
        "## Introductory Lectures\n",
        "\n",
        "-   Assuming you are familiar with Matlab or Python, Julia will be easy\n",
        "    to learn\n",
        "-   Adapted from QuantEcon lectures coauthored with John Stachurski and\n",
        "    Thomas J. Sargent\n",
        "    -   [Julia by\n",
        "        Example](https://julia.quantecon.org/getting_started_julia/julia_by_example.html)\n",
        "    -   [Essentials](https://julia.quantecon.org/getting_started_julia/julia_essentials.html)\n",
        "    -   [Fundamental\n",
        "        Types](https://julia.quantecon.org/getting_started_julia/fundamental_types.html)\n",
        "\n",
        "## Using Packages\n",
        "\n",
        "-   First ensure your project is activated and packages instantiated"
      ],
      "id": "d2c8881c-ed15-46b4-9000-28292d14f6f7"
    },
    {
      "cell_type": "code",
      "execution_count": 1,
      "metadata": {},
      "outputs": [],
      "source": [
        "using LinearAlgebra, Statistics, Plots"
      ],
      "id": "135da9a5"
    },
    {
      "cell_type": "markdown",
      "metadata": {},
      "source": [
        "## Plotting Random Numbers"
      ],
      "id": "c8867a99-b6de-42bf-9088-936a25a8016f"
    },
    {
      "cell_type": "code",
      "execution_count": 2,
      "metadata": {
        "output-location": "column"
      },
      "outputs": [
        {
          "output_type": "display_data",
          "metadata": {},
          "data": {
            "text/html": [
              "<img src=\"data:image/png;base64,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\" />"
            ]
          }
        }
      ],
      "source": [
        "n = 20\n",
        "ep = randn(n)\n",
        "plot(1:n, ep;size=(600,400))"
      ],
      "id": "a58a691e"
    },
    {
      "cell_type": "markdown",
      "metadata": {},
      "source": [
        "## Loops"
      ],
      "id": "7bd0385b-efa8-400b-990b-13cb3450a219"
    },
    {
      "cell_type": "code",
      "execution_count": 3,
      "metadata": {},
      "outputs": [
        {
          "output_type": "stream",
          "name": "stdout",
          "text": [
            "[-0.31093233101361145, 0.16782285707025787, -1.1419122245961317, 0.3402267215146842, 2.1489606146969957]"
          ]
        }
      ],
      "source": [
        "n = 100\n",
        "ep = zeros(n)\n",
        "for i in 1:n\n",
        "    ep[i] = randn()\n",
        "end\n",
        "println(ep[1:5])"
      ],
      "id": "d1ea160d"
    },
    {
      "cell_type": "markdown",
      "metadata": {},
      "source": [
        "## Comprehensions"
      ],
      "id": "ab572b1b-8690-463b-827e-9b79144575e8"
    },
    {
      "cell_type": "code",
      "execution_count": 4,
      "metadata": {},
      "outputs": [
        {
          "output_type": "stream",
          "name": "stdout",
          "text": [
            "[2i for i = 1:4] = [2, 4, 6, 8]"
          ]
        }
      ],
      "source": [
        "# Comprehensions\n",
        "@show [2 * i for i in 1:4];"
      ],
      "id": "399b2aca"
    },
    {
      "cell_type": "markdown",
      "metadata": {},
      "source": [
        "## Manually Calculated Mean"
      ],
      "id": "8a772cdc-2a77-49f0-af4e-8699aaae576f"
    },
    {
      "cell_type": "code",
      "execution_count": 5,
      "metadata": {},
      "outputs": [
        {
          "output_type": "stream",
          "name": "stdout",
          "text": [
            "ep_mean = ep_sum / length(ep) = -0.0236589755384818\n",
            "ep_mean ≈ mean(ep) = true\n",
            "ep_mean = -0.0236589755384818\n",
            "sum(ep) / length(ep) = -0.023658975538481796\n",
            "sum((ep_val for ep_val = ep)) / length(ep) = -0.0236589755384818"
          ]
        }
      ],
      "source": [
        "ep_sum = 0.0 # careful to use 0.0 here, instead of 0\n",
        "for ep_val in ep\n",
        "    ep_sum = ep_sum + ep_val\n",
        "end\n",
        "@show ep_mean = ep_sum / length(ep)\n",
        "@show ep_mean ≈ mean(ep)\n",
        "@show ep_mean\n",
        "@show sum(ep) / length(ep)\n",
        "@show sum(ep_val for ep_val in ep) / length(ep); # generator/comprehension"
      ],
      "id": "f9cff29d"
    },
    {
      "cell_type": "markdown",
      "metadata": {},
      "source": [
        "## Functions"
      ],
      "id": "ff65050f-5e07-433b-9005-4887c86fb9d7"
    },
    {
      "cell_type": "code",
      "execution_count": 6,
      "metadata": {},
      "outputs": [
        {
          "output_type": "stream",
          "name": "stdout",
          "text": [
            "[0.5738710743428644, 0.5413125666794807, 0.04756440225408467, 0.334359354647923, 1.7408435117650631]"
          ]
        }
      ],
      "source": [
        "function generatedata(n)\n",
        "    ep = randn(n) # use built in function\n",
        "    for i in eachindex(ep) # or i in 1:length(ep)\n",
        "        ep[i] = ep[i]^2 # squaring the result\n",
        "    end\n",
        "    return ep\n",
        "end\n",
        "data = generatedata(5)\n",
        "println(data)"
      ],
      "id": "e899de62"
    },
    {
      "cell_type": "markdown",
      "metadata": {},
      "source": [
        "## Broadcasting"
      ],
      "id": "9f488104-c0b2-4fe3-bbd8-37a748265317"
    },
    {
      "cell_type": "code",
      "execution_count": 7,
      "metadata": {},
      "outputs": [
        {
          "output_type": "stream",
          "name": "stdout",
          "text": [
            "generatedata(5) = [0.9043359647742092, 0.6405872706612236, 0.0572764669311976, 3.7361419984421587, 0.0762667372085891]\n",
            "generatedata2(5) = [1.4027046438542208, 0.0003035530516188973, 0.3325394977325157, 0.1595016076303324, 4.333039607173599]"
          ]
        }
      ],
      "source": [
        "function generatedata(n)\n",
        "    ep = randn(n) # use built in function\n",
        "    return ep .^ 2\n",
        "end\n",
        "@show generatedata(5)\n",
        "generatedata2(n) = randn(n) .^ 2\n",
        "@show generatedata2(5);"
      ],
      "id": "b2f005f9"
    },
    {
      "cell_type": "markdown",
      "metadata": {},
      "source": [
        "## Higher Order Functions"
      ],
      "id": "be97d910-66ab-426f-a55d-5bf755c533e2"
    },
    {
      "cell_type": "code",
      "execution_count": 8,
      "metadata": {},
      "outputs": [
        {
          "output_type": "stream",
          "name": "stdout",
          "text": [
            "generatedata3(5, f) = [0.5913738562188254, 0.6686438596359433, 2.1146442095626456, 0.3844746664674261, 0.5401097816326914]"
          ]
        }
      ],
      "source": [
        "generatedata3(n, gen) = gen.(randn(n)) # broadcasts on gen\n",
        "f(x) = x^2 # simple square function\n",
        "@show generatedata3(5, f); # applies f"
      ],
      "id": "7fbf8d41"
    },
    {
      "cell_type": "markdown",
      "metadata": {},
      "source": [
        "## More Plotting Examples"
      ],
      "id": "571ee9c9-7445-4b80-9d00-00172d581c1b"
    },
    {
      "cell_type": "code",
      "execution_count": 9,
      "metadata": {
        "output-location": "column"
      },
      "outputs": [
        {
          "output_type": "display_data",
          "metadata": {},
          "data": {
            "text/html": [
              "<img src=\"data:image/png;base64,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\" />"
            ]
          }
        }
      ],
      "source": [
        "using Distributions\n",
        "function plothistogram(dist, n)\n",
        "    # n draws from distribution\n",
        "    ep = rand(dist, n) \n",
        "    return histogram(ep;size=(600,400))\n",
        "end\n",
        "dist = Laplace() # dist != dist in function\n",
        "plothistogram(dist, 500)"
      ],
      "id": "b2afcdea"
    },
    {
      "cell_type": "markdown",
      "metadata": {},
      "source": [
        "## Changing Types\n",
        "\n",
        "-   The `rand(dist, n)` changes its behavior based on the type of `dist`"
      ],
      "id": "b5e83246-7258-4974-b3c0-280e1bb01944"
    },
    {
      "cell_type": "code",
      "execution_count": 10,
      "metadata": {
        "output-location": "column"
      },
      "outputs": [
        {
          "output_type": "display_data",
          "metadata": {},
          "data": {
            "text/html": [
              "<img src=\"data:image/png;base64,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\" />"
            ]
          }
        }
      ],
      "source": [
        "dist = Normal()\n",
        "plothistogram(Normal(), 500)"
      ],
      "id": "88c11dce"
    },
    {
      "cell_type": "markdown",
      "metadata": {},
      "source": [
        "## Ranges"
      ],
      "id": "478a4bf7-48a5-4463-aadb-7ebb2d725625"
    },
    {
      "cell_type": "code",
      "execution_count": 11,
      "metadata": {
        "output-location": "column"
      },
      "outputs": [
        {
          "output_type": "stream",
          "name": "stdout",
          "text": [
            "x = 0.0:0.25:1.0\n",
            "Vector(x) = [0.0, 0.25, 0.5, 0.75, 1.0]"
          ]
        },
        {
          "output_type": "display_data",
          "metadata": {},
          "data": {
            "text/html": [
              "<img src=\"data:image/png;base64,iVBORw0KGgoAAAANSUhEUgAAAkAAAAGACAIAAADK+EpIAAAABmJLR0QA/wD/AP+gvaeTAAAgAElEQVR4nO3deXwM9/8H8M/M7MohiYSESJCEHHypI+qouCLULUrdSouiLVV8821UKf32hyr9tnW1oW6qVN3pQRF34o4skcuVRC4SsTk2u/P5/P6YdptGsNjs7uy+nn94zE5mN++dHfPK5/OZ/QzHGCMAAAByw5u7AAAAgOeBAAMAAFlCgAEAgCwhwAAAQJYQYAAAIEsIMAAAkCUEGAAAyBICDAAAZAkBBgAAsmQRAfbgwQNzlwAAADJjEQEWHh6uUqkM3Li4uLhKi4HydDpdWVmZuauwITi8TQw73JTKysp0Op0RX9AiAkyr1Wq1WgM3ppRWaTFQHmMMs2WaEg5vE8MONyWjn08sIsAAAACeFQIMAABkCQEGAACyZMwAu3HjRnp6eoWVubm5169fR0czAAAYl0EBlpCQ0L59ewcHhyZNmlS6QWlpac+ePfv06dOlS5fhw4eLoiitnzVrVosWLUaOHNmqVavs7GyjVQ0AADbPoABzd3dfsmTJtm3bHrfBunXrysrKEhISrl69ev369d27dxNCEhISvv/++/j4+PPnz7dv337hwoVGqxoAAGyeQQHm6enZsWPH6tWrP26DnTt3vvHGG4Ig2NnZjRgxYufOndLKvn37uru7E0LefPNNaSUAAIBRKIzyKnfu3PHx8ZGWGzRosG/fvgorfXx8MjMzdTqdQlHJb3z48OFPP/105swZ6WHLli3btGnzuN8liqK+ixKqmiiKlFLscJPB4W1i2OEmwwg5mUUbupD6LobucEEQnryBcQJMp9Ppf5NSqZTmbtBqtfqVCoWCMSaKYqUBVlRUpFKpsrKy9K/QsmXLx/2uZ/rWM7wgrVZLKeV5XK1qIji8TQw73ASuFpBtN7gfb/J17PkvW2s9HQz6LjPHcSYKME9Pz5ycHGk5KyvLy8uLEFK3bl39yuzs7Jo1a9rZ2T3u6Z988skTQqs8nU5nb28fGxu7du1aY9RuNkqlcunSpY/bJxZCEARKqYUXaU2kw9vcVdgQ7PCqk1HEfrrBdtygGcVkWEPuYB/ex76M5+2USqWxfsXzBxilNCUlpWHDhgqFonv37tHR0UOHDiWE/PLLL7169SKEhIWFTZkyReo2jI6ODgsLM1bRhJBTp07l5eUNHz7ciK9pYlOnTp09e3bdunXNXQgAgNE8KCN7btEdN2hcLhvowy9qI4R4chwhhBCNxsi/y6AAy8/PnzRpUnZ2dkZGxtChQ9u1azdz5ky1Wh0UFHTr1q0GDRq88847bdq0GT9+fHFxcUpKypgxYwgh3bt39/b27t27d9OmTbds2XLw4EHjlt6kSZMhQ4YY9zVNadasWeYuAQDAODQi+T2D7khj0XdoNy9+YmP+5+68sooHHwwKMEdHx4kTJ+of1q5dmxBSvXr1Q4cO1alThxDi6ekZHx9/4MABhUKxevVqJycnQgjHcb/99lt0dPT9+/cjIiK8vb2r5i0AAIB5UEZOZbMdN+iPafSlmtwb/vzKEKWT0foIn8KgALOzs+vevXuFlYIglO8VdHNzGz16dIVtlEpleHj4C5YIAACWRpXPdtygG5NZTTvyhj8fP0hZ28HUNRjnIg4AALAF6UVs5w22MYWW6MjQhtzvvQV/F85cxSDAAADgKQrKyN5bdFMKTSwgg3y5r9sLHT3Nllt6CDAAAKhcqUgOZtBNyezoXdqrHv9+U753PV5hMd8LRYABAMA/SJdmbEqhu27SdrW5IX78+i5KR8uLC8uryFqo1eqPPvro/PnzWVlZKSkpHGf+5jYAwJOp8tmmFLo5hfk6kSF+/P+9rnS34O95I8CqCqXU19e3Y8eOw4YNM3ctAABPclvNfkhl65MpT8iQhtyxfkJDZxn8zY0AM4LPP/+8Vq1aEyZMIIRQSnv16hUVFeXr6ztjxoyMjAxzVwcAULn7GvLTDboxmd5Wk9d8uS1dhWB3GeSWnvUEWG4pua02aI7IF1TLjvj+82+Trl27jh07dvz48dJ3t/Pz8319fU1QCQDAcyjRkUOZf1+aMS9YCPOW5SCH9QTY5hS6JYWa4Bf5OnM/hf1jjuR27do5OTnFxMR07dp19erVkyZNMkEZAADPRGTkdDbblEJ/vknb1+bGBPCbQ5XVLOaSwudgPQE2vRk/vZnZPorJkyevXr26cePGMTExGzZsMFcZAACPki7N2JTM/JzJmAD+i3ZKF1PN9lSlrCfAzGvkyJFz5sxZuHDhsGHDnJ2dzV0OAAC5pWbbUtnaJKrgyJCG3Mn+gq8cLs0wHALMOBwdHYcOHbps2bILFy7oV86bNy83N5cQMmvWrNq1a8+YMcN8BQKArbinITtv0I3J9E4RGejD/dhNaFnLqnJLDwFmNCEhIWfOnCl/W05XV1cHB4dFixYRQlxcXMxXGgBYvxId2X+Hbkymcbmsp7eML80wHALMCERRzMrKWrp06QcffFB+fYWHAABGJzJyJJNtTKa/pP95aYYJbsRlIRBgRpCWljZy5MguXbrgO8sAYDLn89jGZLrjBm3ozI0J4FeEKJ2t4tIMwyHAjCAgIODs2bPmrgIAbMK1AvZjGt2SwqrxZEwAf+E1pafJb8RlIRBgAAAykFHEfrrBdtyg6UVkeCPuQE8hsIZ1j3A9HQIMAMByPSgje27RHTdoXC4b6MMvaiOEeFr5pRmGQ4ABAFgcjUh+z6A70lj0HdrNi5/Y2IYuzTAcAgwAwFJIN+LacYP+mEZfqsm94c+vDFE62dilGYaTa4AJgrB169bY2FhzF/L8MjMzBUF4+nYAYANU+WzHDbopmbnZkTf8+fhBytq2emmG4eQaYOPGjQsJCTF3FS+kWrVqtWvXNncVAGBO6UVs5w22MYWW6MjQhtxvvQV/F4xwGUquAebk5NS6dWtzVwEA8DwKysjeW3RTCk0sIIN8ua/bCx09kVvPTK4BBgAgO6UiOZjx94243m/K967HK3BpxvNCgAEAVC3p0oxNKXTXTdquNjfEj1/XRVkdZ98Xhl0IAFBV9Jdm1HUkQ/z4z15XetibuyYrggADADCy22q26yZbn0zLRDKkIXewj9DQum7EZSEQYAAAxpGvIftu000p9HoBec2XW9NJaO2O3KpCCDAAgBfy6KUZferzApKr6iHAAACeh8jI6Wy2KYX+fJO2r80N8ePXd1E64pxqQtjZAADPRpXPNqXQTcnMz5kM8eMXDFHWsjN3TTYJAQYAYJBbarYtla1NogqODGnInewv+OLSDLNCgAEAPMl9DfnpBt2YTO8UkYE+3LZuQqtayC2LgAADAKhEiY7sv0M3JtO4XNbTm58XLIR540ZclgUBBgDwN5GRI5lsYzL9JZ22r82NCeB3duerYbYni4QAAwAghJDzeWxjMt1xgzZ05sYE8CtClM64EZdlQ4ABgE27VsB+TKNbUlg1nowJ4C+8pvTEjbhkAgEGALaoSEc2JdPvrlUrEsWRjbgDPYXAGhjhkhkEGADYluQHbOU1ujWV9vTml7bWdfNxNHdF8JwQYABgEygjhzNZVCI9ncNG+XMXBiq8q3NqNTV3XfD8EGAAYOUelJEf0+hXCdRRQd5vym8JFZS4qtAqIMAAwGolFrBV1+iWFNqnPr+tm9C8Jka5rAoCDACsjchI9B36jYrefEgmBPFJQ5U1MVehNUKAAYD1yC4h65Poqms0oAaZ2Jgf5IvbmlgzBBgAWIPzeSwqke65RcN9+F97CY1dEVzWDwEGADKmEcne2/R/V2h+GZncmP+yvbI6zmo2Ax81AMhSZjGLSqTfXqNtPLhPWwvdvdHksjkIMACQmRNZ7BsVPZXDRvtzZwcq6ldHdNkoBBgAyMNDLfkhlS5TUTuBTGzMb+wq2AvmrgnMCgEGAJYu6QFbm0Q3JNFOnnxUJ+GV2mhyASEIMACwWNLkT1+rxEv3yPgg7spgpbu9uWsCS4IAAwCLU1BGNiTRr1TU25FMa8bv6s4rMPkTPAIBBgAW5EIe++6vr3Ptf1Vo6obeQngsBBgAmF8ZJXtu0ahEeltNxgXyiUOUrtXMXRNYPAQYAJjT3WKyMZmuvEYDa5D3m/L9GvBoc4GBEGAAYB7n89jXCfTXdDqiER/TV/B1RnLBs0GAAYBJlYpkexpdeoUqeTKxMf9tR6UjzkPwXHDgAICJpBay1dfpxmTasQ6/tB0mf4IXhQADgKolfZ0rKpGezmGj/Lmz4QpvTP4ExoAAA4CqUqgl21LpVwnUUUHeb8pvCRWU+DoXGA8CDACML7GArbpGt6TQPvX5bd2E5jXR5ALjQ4ABgNGIjETfod+o6M2HZEIQnzRUWdPO3DWB9UKAAYARZJeQ9Un020Tq70ImNuYH+fICGl1QxRBgAPBCzuexqL8mf4ruKTRxRXCBiSDAAOB5aESy9zb93xWaX0YmN+a/bK+sjtMJmBaOOAB4NpnFLCqRfnuNtvHgPm0thHlzaHOBWSDAAMBQJ7LYNyp6KoeN9ufiwhUNnJBcYE4IMAB4ioda8kMqXaaidgKZ2Jjf2FWwF8xdEwACDACeIPkB+z6JbkiinTz5qE7CK7XR5AILggADgIqkyZ++VokX75EJQdyVwUp3e3PXBPAIBBgA/K2gjGxIol+pqLcjmdaM39WdV2DyJ7BUhgZYVlbWggULbt26FRoaOnXqVEH4Rxd4dHT0nj179A89PT3nz59PCJk2bVppaam08vXXX+/Ro4eRygYAI7uQx7776+tc+14VmrmhtxAsnaEB1rdv3y5dukyfPv2jjz5Sq9Uff/xx+Z/WrVu3devW0vL69eu1Wq20vG7dunnz5jk5ORFC6tSpY7yyAcA4yijZc4tGJdLbajIukE8conStZu6aAAzDMcaeutGJEydGjBhx+/ZtjuPOnTvXv3//9PT0Co0wiU6nq1+//o4dOzp27EgIcXFxSUtLc3d3f/Lrh4SErFixomXLloZUrFarpUQEE9BqtZRSOzvMZ2cipjy8s0rIhiS68hoNrEHeb8r3a8DbYJsL5xNT0mg0PM8rlUpjvaBBLbDLly+3adOG4zhCSHBwcF5eXnZ2tpeX16Nb7t2718XFJSQkRL9mzJgxdnZ2oaGh77zzjhHrBoDndj6PfZ1Af02nIxrxMX0FX2cbTC6wBgYFWF5eXo0aNaRlnuddXFxyc3MrDbC1a9eOGzeO++uL+Z9//nmLFi3y8/Pnzp2bmJi4cuXKSl8/NTW1c+fO+ibd6NGjFy5c+LhiioqKDKkZjEJqgen7hKGqVenhXSqSn2/zy68rBJ6MayQuaSk6KgghRK2uut9p6XA+MaVnaoHxPO/o6PjkbQwKMFdXV/VfxzhjTK1W16xZ89HNMjIyDh06FBUVpV/zzjvvSAsNGjR45ZVXli9fzvOVXNLk5+f3+eefv/TSS9JDR0fHJ/dZoclvMuhCNL2qOLxTC9nq63RjMu1Yh//yFb67N5pcf8P5xGSUSqUZuhADAwO//fZbaTkpKcne3t7T0/PRzTZs2NCzZ89KW2YODg46nY5SWmmASa06Nze3Z6kcAJ5C+jpXVCI9ncNG+XNnwxXe1RFdYD0M+opHjx49iouL16xZk5eXN3fu3DFjxkgROmPGjGPHjknbMMbWrVs3btw4/bOuXbt24MCBzMzMhISEKVOmDBgwQKHA184ATKFQS6ISabOdusizYr8GXNowxaI2AtILrIxBiaJQKPbt2zdz5szFixd37dpVP0BVUlKi0+mk5ZSUlCZNmvTp00f/LErp8uXL09LSnJ2du3XrNnv2bKNXDwAVXH/AVl6lW1Jon/r8tm5C85oILbBaBl1GX9VwGb3FwhiYiT334U0ZOXCHfqOiNx+SCUH82435mvjQDIDziSmZ5zJ6ALBYOSVkXRL9NpH6u5CJjflBvryARhfYBgQYgFydz2NRf03+FN1TaOKK4ALbggADkBmNSPbepl8l0PsaMrkx/2V7ZXX8PwabhAMfQDYyi1lUIv32Gm3jwc0PFsK8ObS5wJYhwABk4EQW+0ZFT+Ww0f5cXLiigROSCwABBmDBHmrJD6l0mYraCWRiY35jV8G+kjm0AWwUAgzAEiU/YN8n0Q1JtJMnH9VJeKU2mlwAFSHAACwIZeRQBvtaJV68RyYEcVcGK93tzV0TgKVCgAFYBEbI9jT6UVy1RjXE9/7F92uAr3MBPAUCDMD8zuSwf8eKIiPftdd1933KLSQAQIIAAzCn6w/YnHP0Sj77tDU/xI9Xq0vNXRGAbCDAAMwjr5T896K4PY1GthC2hgoKg+4MAQB/Q4ABmFqxjixT0a9V4pgA/vpQpYvRpjYFsC0IMADToYzsvEk/jKMd63DnByrrYrQL4AUgwABM5FAG+3es6OFAdvfAbboAjAABBlDlVPnsP3Fidgn5sr3QzQvRBWAcCDCAKpRexP57kf6Wzj5qyY8Pwle7AIwJAQZQJdRasuSKuPIqffdffOIQBeYwBDA6BBiAkWkpWZdEP71I+9bnEgYrazuYuyAAK4UAAzCmfbfpjDO0sSuJ6Ss0ckGPIUAVQoABGMeZHBYRJ+ooWddZ6OiJ6AKocggwgBeV9IB9fI7G32f/fZl/3Y9HdgGYBgIM4Pnd05Av4sVNyez9pvzmUKEapoMCMCEEGMDzKD8d1NXXFTWqmbsgANuDAAN4NvrpoF52504PUPg4ocsQwDwQYADP4FAGi4gT3e3Jrh5CC0wHBWBWCDAAg6jy2Ydx4k01+byt0Lc+ogvA/BBgAE+B6aAALBMCDOCxyk8Hde11hQP+uwBYEvyPBKiENB3Ufy/SPpgOCsBSIcAAKtJPB3Wkr+CP6aAALBUCDOBvsTksIk4so2RtZ6ETpoMCsGwIMABCMB0UgAwhwMDWlZ8OalNXwQ437gKQCQQY2K4SHfkG00EByBYCDGyRNB1UZBxt7c6d6q/wdUaXIYD8IMDA5uing9rZXWhZC9EFIFcIMLAhVwvYh3FiWiH5vK3QrwGiC0DeEGBgEzKK2KcX6a/pbDamgwKwFggwsHLlp4NKxHRQAFYE/5vBapWfDurKYGUdTAcFYF0QYGCdDmWwD86Ifs7kcB8hoAZ6DAGsEAIMrE1cLouIFUtFsioE00EBWDMEGFiPW2o25xyNzWWfYTooABuAAANrcF9DFv81HdTqTpgOCsAmIMBA3sooWXWVLrgsDm+I6aAAbAsCDOSKEfLTjT+ng4odgOmgAGwOAgxk6Y9MFhEr1rInP3UXWmE6KACbhAADmblWwD45T1X5bF5rfogfb+5yAMBsEGAgG+Wng/qhm4DpoABsHAIMZKBIR5ar6FcJ4thAXjVY4aQ0d0EAYAEQYGDRdJSs/Ws6qEuDMB0UAPwNAQaW61AGm35G9HQkv/YSmrqhxxAA/gEBBpbobC6LiBNLdGRFiNAZ00EBQGUQYGBZbqvZx+fosSz2aWv+jQBMBwUAj4UAA0shTQe1MZlOaypgOigAeCoEGJjfP6eDUrpiOigAMAACDMxJmg5q1lkaXIs7M0Dhh+mgAMBgCDAwmz8y2X/iRLdqZEcYpoMCgGeGAAMzkKaDSshn8zEdFAA8LwQYmFRmMZt/AdNBAYARIMDARMpPB5UwWOGM6aAA4MUgwKDKlZ8O6uIgpSemgwIAY0CAQdU6lMFmxIp1HMgvvYRmmA4KAIwHAQZVRZoOqlhHlr0idKmL6AIAI0OAgfFhOigAMAEEGBgTpoMCAJNBgIFxYDooADAxBBi8qPLTQZ0eoGiI6aAAwCQQYPBCTmWziDjRXiDbuwnB7oguADAdBBg8p8QCNhfTQQGA+TxDgKlUquLi4uDgYEGoODT/4MGDe/fuScscx/n5+el/lJKSkpubGxwcbGdn9+LlgiXILSWfXRR332KzW/JbQwUFwgsAzMGgAKOUvv7668nJyTVr1szPzz969GjNmjXLb7Bhw4Y5c+a4u7sTQpRKZWJiorR+0qRJhw8f9vPzS01NPXLkSIMGDYz+BsCUMB0UAFgOg/54/uWXX65fv37u3LmYmJhmzZp98803j24zYsSI1NTU1NRUfXqdP39+375958+f//3338PDwxcuXGjMwsG0KCMbk2nQDp0qn10cpFzURkB6AYB5GRRge/bsGTRokNQHOHz48D179jy6zf379//444/k5OTyz+rbt6+LiwshZMSIEZU+C2ThUAZruUu3KYX+0lPY2FXAZIYAYAkM6kJMT09v3bq1tFy/fv2MjIwKGwiCkJ6evnz58rNnz7Zv337btm0KhSI9Pd3Hx0f/rOzsbK1Wq1RW8nd7fn7+999/X7duXenhyy+/HBoa+rhitFqtVqs1pGx4cVfvaafECaVU91Vb0qkOIUSHfV+lcHibGHa4KWm1Wp43dMyc4ziF4ikJZVCAMcY4jtO/KKW0wgbvvvvue++9RwgpKipq06bNli1bxo4dW+FZjDHGWKWvr9PpCgsL7e3tpYf5+fmP/go9SukTfgpGpNaSoccUUwJ1bzchHCHY6yaAw9vEsMNNSdrVBu5wfXw8gUEBVrdu3aysLGn57t27Xl5ej/tN1atX79atW0JCwqPPcnd3r1at8ukZPDw8pk+f3rJlS0OK0Wq1uKDRNN4+LfapTyc2EbDDTQaHt4lhh5sYz/OV9sM956sZslHv3r337dsniiIhZM+ePb179yaEiKJ4+vTpsrIyQoj0r7Rw/PjxwMBAQkivXr1+/fXX0tJSQsju3bulZ4FcRCXS6w/YZ8HmrgMA4DEMaoENHDhw2bJlYWFhnp6eZ86cOXXqFCGkqKioQ4cOt27datCgQe/eve3t7T08PE6cONGoUaOxY8cSQjp37tyiRYvOnTs3btz44MGDR44cqdq3AsZz5T6bf4Ge7C9U43XoXwEAy8Q9blyqAp1OFxMTU1JS0rVrVycnJ0IIpfTy5cvNmjVTKpX5+fnnz59/+PChn59f+Z5ASunJkyfv37/fuXNnNze3x714SEjIihUrDOxCVKvVUgFQRdRa0naPbkEbfqAPr9VqKaXoYzEZHN4mhh1uShqNxrhdiIbOxKFQKMLCwsqv4Xm+VatW0rKbm1v37t0ffRbP8506dXrBEsHE3jkp9mvADfTBBBsAYNEwFyL8w6prNLmQfd8ZBwYAWDqcp+Bv8ffZZxeloS9zlwIA8DQ4UcGf1Foy7LC4MoT3xQ29AEAOEGDwp0knxIE+XDiGvgBAJtCFCIQQsvwqTXvI1nfB8QAAsoETFpDL99miy/Rkf0GJ1hcAyAfOWLauoIy8fkhc00nwccLQFwDICQLM1k04Lg5tyPWqh/QCAJlBF6JN+0ZFc0vYtlAcBgAgPzhz2a6zueyLeHpmgKBAOxwAZAinLhtVUEZGHBHXdBK8q6PzEABkCQFmixgh44+JIxtxPTH0BQCyhQCzRV8l0Hsa9kmwYO5CAACeH8bAbM7ZXPblFRobLghofQGAnKEFZlvyNWTEEXFtZ8HLEfEFAPKGALMhjJBxx8TR/lwPb6QXAMgeAsyGLL1CC8rYnFYY+gIAa4AxMFsRl8u+TqBx4QoMfQGAdUALzCbka8iIw+K6zkJdR3OXAgBgJAgw68cIeeuY+GYg3x1DXwBgRRBg1m/xZVpYxj5qic8aAKwKxsCs3JkctuIqjRuIoS8AsDb4q9ya3deQUUfEdV0ETwdzlwIAYGwIMKslDX2ND+LDvND4AgArhACzWosu0yIt+7AFPmIAsE4YA7NOp3PYKgx9AYBVw5/nVii3lIw4LG4JxdAXAFgzBJi1oYy8cVT3ThO+kycaXwBgzRBg1mbBJcpzJKI5PlkAsHIYA7MqMXfZ90n0bLiCR+sLAKwd/k63HjklZGyMuKmL4G5v7lIAAKoeAsxKSENf7/2L74ihLwCwDQgwK/Hfi1TBk39j6AsAbAbGwKzB0btsfTI9G65A4wsAbAcCTPayS8jYGHFrKIa+AMC2oMdJ3qShr2lN+ZA6aH0BgG1BgMnb/AuinUCmv4TPEQBsDroQZezIXbYxhZ0biKEvALBFCDC5yi4hY4+K27oJtezMXQoAgDmg60mWKCOjj+pmvsR3wNAXANgqBJgszT0v2gvk/Wb4+ADAdqELUX4OZ7KtqRj6AgBbhwCTmawS8maM+GOYUBNDXwBg29AHJSciI6OO6CKa86/URusLAGwdAkxOPj4nOim5KU3xqQEAoAtRPn65w3beZJjwEABAggCTh/Qi9vYJcU8PoUY1c5cCAGAZ0BklAzpKRhwRP2rBt3ZH6wsA4E8IMBmYfU6s68C9+y98WAAAf0MXoqWLvsN23WJnw/FJAQD8A06LFu1OEZt4QtyLoS8AgEegV8py6SgZcVic04oPxtAXAMAjEGCWK/Ks6F2dm9QYnxEAQCXQhWihDtxh+26zswPxAQEAVA7nR0t0p4hNOiHue1VwUZq7FAAAS4XuKYujpWT4YXFeMN+qFoa+AAAeCwFmcf4TJ9avzk0IwkcDAPAk6EK0LPtvs+g7GPoCAHg6nCgtyG01m3xS3I+hLwAAA6CfylJIQ1+ftuZbYugLAMAACDBL8e9Y0deZGxeITwQAwCDoQrQI+27T39Ix9AUA8AxwxjS/W2o2+QSN7iU4Y+gLAMBg6LAyM41IBh8S/+9lvkVNDH0BADwDBJiZzYwVm9fk3sTQFwDAM0IXojntuEFj7rJY3OsLAODZ4dRpNqmF7IPT9GAfwREfAgDAs0PPlXloRDL0sLiwDf8vVwx9AQA8DwSYeXxwRgyuxY0JwP4HAHhO6L0yg+1p9EQWhr4AAF4IzqGmllLIpp+hhzD0BQDwYgw9id64cWPu3Lk3b94MDQ39+OOPq1WrVv6nCQkJq1evjo+Pd3FxGTVq1NChQ6X1Y8eOLSkpkZbfeOON/v37G7F0OSoVydA/xEVt+SYY+gIAeDEGjcEwxvr16xcUFLRy5crY2Nh58+ZV2ODEiRMNGjRYtGjR+PHjp06dumvXLmn9rl27evXqNWTIkCFDhgQGBhq3dDmadlps48G94TbIx9cAABW9SURBVI+hLwCAF2VQC+zIkSMlJSUff/wxIWTx4sVhYWGffvqpQvH3cydPnqxfPn78+KFDh1577TXp4YABA9zd3Y1as1z9mEZP57DYAeg6BAAwAoOaAiqVqnXr1tJy8+bNCwsLs7KyKt2SMXbq1KmXXnpJv2bAgAFdunSZP39+cXHxi5crX8kP2IwzdHs3wQH5BQBgDAadTe/fv+/k5CQtcxzn7Ox87969evXqPbrl//3f/2m12vHjx0sPo6KiWrRoUVBQ8OGHH6alpW3YsKHS109OTm7VqpX+4Xvvvbdo0aLHFVNUVGRIzRalVCSvH6o2v7munoKq1eau5llotVpKqVarNXchtkKOh7esYYebkkaj4XleqTRo2nKe5x0dHZ+8jUEBVrNmzStXrkjLjLGHDx9W2iu4fPnyH3744ejRo/r6hg8fLi1ERUW1atVq7dq1giA8+sSAgIDff/+9ZcuWhhRDCNGnqVx8cFwM8SQTmlV7+qYWRgowOzs7cxdiQ2R3eMsddrjJKJVKwwPMEAZ1ITZp0uTSpUvSckJCgrOzc506dSpss3bt2uXLlx88eNDDw+PRV2CMcZyNXne3LZWezWVL21WS3AAA8NwMCrBu3boJgrB48eKkpKTIyMjx48dLV3CMGzfu0KFDhJBt27ZNnTo1MjLy6tWrhw4dio+PJ4Rcvnx548aNKpXq2LFjb7/99tChQyttflm3pAdsZizdHoahLwAAIzPotMrz/IEDB2bPnr1z587Q0ND58+dL6z08PBwcHAgharW6b9++0dHR0vq2bds2b97cwcHht99+W7VqlbOzc79+/aZNm1ZF78FiSd/6+qIdH1TDRlufAABVh2OMmbsGEhISsmLFCgPHwNRqtVz6rN86JjopyLIOMm53YgzMxGR0eFsH7HBTeqaLOAyBjq2qsjWVXsxjZzDhIQBA1cDptUqo8llELD3eX7CXcesLAMCiYU4j4yvSkWGHxW9e4Rs6Y+gLAKCqIMCM772TYndvbrAf9i0AQBVCF6KRfX+dXi1gx/thxwIAVC2cZ40pIZ/NPU9P9BfsMPQFAFDF0M1lNEU6MuwPcXkH3g9DXwAAVQ8BZjTvnBB71uNe88UuBQAwBXQhGsfqRHr9AVvTGfsTAMBEcMI1giv32bwL9ER/oRpaXwAApoIz7otSa8mww+KKEAx9AQCYFALsRb1zUuxbnxvogz0JAGBS6EJ8Id9eo0kP2PcY+gIAMDmceZ/flfvsvxfpSQx9AQCYA069z0mtJUMPiytDeF8MfQEAmAMC7DlNPimG+3DhGPoCADATdCE+jxVXaWohW4ehLwAA88Ep+JnF32cLL9OT/QUlWl8AAOaDc/CzeaglQ/8QV3bgfZww9AUAYE4IsGfz1jFxkC83AENfAADmhi7EZ7BMRXNL2LZQ7DQAAPPDudhQ5/LY4nh6ZoCgQOsLAMAC4GRskIIyMuKwuKaT4F0dQ18AABYBAfZ0jJDxx8Thjbie9ZBeAACWAgH2dF8n0HsaNi9YMHchAADwN4yBPcXZXLb0Co0NFwS0vgAALAlaYE9SUEZGHBG/7yx4OSK+AAAsCwLssRgh446Jo/25V72RXgAAFgcB9lhfXqH5GjanFYa+AAAsEcbAKheXy75KwNAXAIDlQgusEvkaMvKIuBZDXwAAFgwBVhEj5K1j4pgAvgeGvgAALBgCrKIv4mlhGZvdEnsGAMCiYQzsH2Jz2HIVjQ1XYOgLAMDCoZ3xt/saMvKIuK6LUNfR3KUAAMDTIMD+JA19jQviw7zQ+AIAkAEE2J8+v0zVWhbZAjsEAEAeMAZGCCFnctjKqzRuIIa+AABkAw2OP4e+1ncRPB3MXQoAABjM1gOMMjLqiG5iY74bhr4AAGTF1gNs4WXKceQ/zW19PwAAyI5Nj4Edy2KrE+m5gQoerS8AALmx3ZZHTgkZc1Tc3FVwtzd3KQAA8OxsNMAoI28c1b37L76jJxpfAACyZKMB9tklquBJBIa+AABkyxbHwGLusnVJ9Gy4Ao0vAAD5srkAyykhY2LEraEY+gIAkDfb6kOjjIw+qnu/KR9SB60vAAB5s60A+/SiWI0nM16yrXcNAGCVbKgL8chdtiGZnRuIoS8AAGtgKwGWXULejBF/CBVq2Zm7FAAAMAab6EyThr6mN+M7YOgLAMBa2ESAfXJBtBfItGY28WYBAGyE9XchHs5kW1LYWQx9AQBYFysPMGno68cwDH0BAFgba+5VExkZdUQX0Zx/pTZaXwAA1saaA2zOOdFRwU1pas3vEQDAZlltF+IfmWxbGr71BQBgtawzwNKL2Jsx4u4eQk0MfQEAWCkr7F7TUTLyiBjZgm/tjtYXAIDVssIA+/i86OnAvfcvK3xrAACgZ21diL/cYT/fZGfDre19AQBABVZ1ok8vYm+fEPf2EGpUM3cpAABQxaynn01HyfDD4sct+WAMfQEA2ADrCbBZZ0Xv6tzkJtbzjgAA4AmspAvxwB225zY7N9BK3g4AADyVNZzx7xSxSSfEfa8KLkpzlwIAAKYi+w43LSUjDouftOJb1cLQFwCADZF9gH0YJ9arzr3dWPZvBAAAnom8uxD332YH7rCzGPoCALA9Mj7131azySfF/Rj6AgCwSYYGmCiKp06dKi4u7tSpk6Oj46MbaDSa48ePKxSKkJAQpfLPSGGMxcXF5eXlderUycXFxWhVE6KlZPhhcX4w3xJDXwAANsmgANPpdD179tRoNB4eHu++++7Jkyc9PT3Lb5Cfnx8SEuLn51dSUlJcXHzkyBEHBwdCyPDhw5OTkwMDAydOnHj06NGAgABj1R0RJ/o4c+ODMPQFAGCjDAqAPXv25OfnHz16dNeuXaGhod98802FDb777rsmTZocOHDgjz/+sLe3/+GHHwghJ0+ejI2NPXny5LZt2956662FCxcaq+h9t+mvd1hUR8FYLwgAALJjUIBFR0eHh4crFApCyKBBgw4cOPDoBoMHDyaEcBz32muvRUdHSyt79+4tNcUGDx786LOez+0iMvkE/TFMcMbQFwCADTOoCzEzM7Ndu3bSspeXV0ZGxqMb1K1bt8IGmZmZfn5++pW5ubkajcbOrpJbTObl5f3vf/+rXbu29LB9+/b9+vWrtBLKyKjjivktaePqokZjSO3wQrRaLaXU3FXYEI1Gox9CBhPADjcljUbD87yBpxSO46pVe8q87AYFGMdxjDFpmVIqCBX77irdoMJKjuN4vvIGnyAILi4ubm5u0kMXF5fHbckRMrNJybAAB0Jw7YYpSB/E4z4OMDqe57G3TQk73JT4vxiyMcc9/SRvUIB5e3vrW12ZmZleXl5P3kBqjXl7e2dmZkorMzIyateu/bi/dNzc3MaPH9+yZUtDihnog7+YTIpSih1uMkqlEnvblLDDTYlSyvO8EXe4QUnYv3//3bt3a7VaQsj27dv79+9PCNHpdAcOHCgtLZU22LFjh1Tfzp07BwwYIK2Mjo5Wq9XlnwUAAGAUf/fyPYEoigMHDkxPT/fw8EhPTz927Ji7u3thYWGNGjVu3brVoEGDwsLC0NBQZ2fnkpISR0fHX3/9VRrrGjdu3OnTpxs1apSQkHD06FFfX99KXz8kJGTFihUGtsDUarWTk9OzvEd4ftIYWKUjl1AVcHibGHa4KUljYEZsgRnUhSgIwt69ey9dulRSUtKmTRvp1zs7O9+6dcvb25sQ4uLiEhcXd/bsWYVCERwcrO/iXLt2rUqlun///ssvvyxdjvjikpKSgoODjfJS8FQFBQWlpaX169c3dyG2IiUlpXnz5hiVMQ1KaUpKioF/OsOLy87OdnBw8PDwMNYLGvr/hOO4Vq1adejQQR+eHMc1aNBAf0GHIAjt27d/+eWXK/zfa9q0aadOnYyVXg8fPkRXpClt3bp1+fLl5q7ChkyYMCEpKcncVdiKpKSkCRMmmLsKG7J8+XLpW8LGIrM/9CiluKrblCilhnQyg7EwxnCEmwwObxMz+uEtswADAACQIMAAAECWDLoKsar5+Ph4eXkZci2QNCl+p06dTFAVEELu3Lmj0Wj8/f3NXYitiIuLa9asWaU3fACjKy4uTkhIaNu2rbkLsRXJycn29vYGXhSmUCi2b9/u7Oz8pG2MVNgL2b59uyAIhnzvmhCSnZ1dp06dqi4JJMXFxTqdzri3woEnyMnJ8fDwMPD/Arwgxlhubq5+EjuoaoWFhQqFwsC/zwRBeGqrxiJaYAAAAM8KY2AAACBLCDAAAJAlBBgAAMgSAgwAAGTJIq5CLC8nJ2fBggVpaWkdO3acMWOGdBvo8lJSUhYvXpydnR0eHj5u3DhpZWFh4YIFC65evdqqVavIyEhjzVxlCy5evPjVV189fPhw9OjRgwYNqvDTM2fO7NixIzU1tW7dulOmTGnatCkhJDMzc/78+fptIiIicJ29gXQ63f/+97/jx4/7+fnNnj370evfPvzww4KCAmm5b9++0o0dGGPfffdddHS0t7d3ZGSkj4+PqeuWrdzc3AULFqSmpoaEhMyYMaPCNLKHDh2SbqMhcXNzW7RoESEkIiKisLBQWtm/f//H3V8XKrhy5crx48dVKtXIkSNDQkIe3UCtVi9atCg+Pr558+azZs2qXr06IYQxtnr16v3793t5eUVGRj5uzvdKWVwLbODAgaIozpw585dffpk3b16Fn2o0mtDQ0IYNG06bNu2LL75Yv369tP7NN99MT0+PiIi4fPny1KlTTVyzfOXm5vbo0SMkJOTtt9+eOnXqwYMHK2ywYcOGevXqTZkypX79+iEhIbdv3yaE5Ofn7969u/VfMJm34ebPn79///6ZM2cSQsLDwx/dYPPmzT4+PtKO1d94b+XKlatWrZo+fXqdOnW6d++u0+lMWrScDRo0qKys7N///vfvv/8+d+7cCj+tU6eO/jBOSkq6ceOGtH7z5s2+vr7Sev295uGp1q5de/HixYMHDyYmJla6waRJk65fvx4REZGUlDRx4kRp5Xfffbds2bLp06d7e3uHhYVJ9+0yFLMkcXFxtWvXFkWRMRYfH1+rVi2NRlN+gy1btrRv315a/vnnn4ODgxljN2/edHR0fPjwIWMsKyvLwcHh3r17Jq9dlhYvXjx48GBpedmyZf3793/Cxh06dNi4cSNjLCEhwd/f3xT1WZeysrJatWpdunSJMSaKoqenZ2xsbIVtvLy80tLSKqwMDAz89ddfpeXmzZvv2bPHBNVagfPnz7u7u+t0OsbY1atX3dzcSktLK91SFEUfH5/ffvtNeujp6Xnz5k3TFWpdevbsuWbNmkfX3717197eXjo55+fnOzg43L17lzHWpEmTAwcOSNu0atXq559/Nvx3WVYLLD4+vnXr1tJ89i+99FJxcXF6enqFDfRfm2/Tps2VK1copQkJCUFBQVI7oE6dOnXr1n1c/kMFV65c0e/Ptm3bXr58+XFbqtXq5OTkwMBA6WFOTk6fPn2GDRv2888/m6JQq5CRkaFWq1u0aEEI4Xn+5ZdfrnSHT5o0acCAAUuWLNFoNISQ0tLSpKSkNm3aSD9t27ZtfHy8KcuWr/j4+ODgYOmOGU2aNNHpdFIXwqMOHjwoimJYWJh+zcSJEwcMGLB06VLpU4AXd/XqVV9f35o1axJCXF1dGzZsqFKpysrKEhMTn/vwtqwxsLy8vBo1augfurq65ubmNmzYsPwG+n4VV1dXrVZbUFBQ6bNMVrOs5ebm6nfdE/YbY2zy5Mmvvvpqu3btCCG1atX6+uuvmzRpkpyc/N577z18+HDs2LGmK1q28vLyys9pUukO/+STT5o2bVpUVDRv3rxLly5t3rw5Ly+PEKL/mNzc3HJyckxWs6xVemYICAh4dMu1a9eOGzdOf3Oo+fPnN23aVK1Wz5s3Lz4+fsOGDSaq2KpV+nHk5eUxxp778LasAHN1dVWr1fqHhYWFUlxXukFhYaEgCDVq1Hjqs+BxXF1dHz58KC0/Yb9NmzYtKytr//790kNPT88333yTENKuXbuSkpL169cjwAxRfm+Tx+xw/cBAYGCgv7//6tWrXV1dCSFqtVr6T15YWOjp6WmqkuXNwDPDvXv39u3bt2DBAv0a/acQEBDQuHHjqKgo3JT8xVX6cbi5uRFC1Gq19NEUFhbWqlXL8Ne0rC7EwMBAlUolLUt90PXq1Su/QVBQUEJCgrSsUqkaNWokCEJgYGBSUlJZWRkhpLCwMD09HRfFGSgoKEi/w1UqVaV/nM6aNevChQu7d++2t7d/9KcODg7PNuhqw7y9vQVBSEtLkx6qVCp9l+yjHBwcKKWiKDo5OXl5eek/poSEhCc8C8qTzieMMULInTt3ysrKKp1GdvPmzR06dGjUqNGjP3JwcBBFURTFKq/VBgQEBNy4caO4uJgQUlJSkpaWFhAQ4ODgUL9+/fKHd6Vnocd60QE7oxJF0d/ff9myZbm5uaNHj54wYYK0PiIi4uDBg4yx/Px8Nze33bt3Z2ZmdunS5fPPP5c26NChw9y5c/Py8j744IN+/fqZ7Q3ITWpqqpubW0xMzM2bN5s1a7Zp0ybGmEajCQ8Pl8ZX586dW79+/aNHj547d+7cuXPSyj/++OPkyZNZWVkxMTEBAQFLly4189uQj7fffnvkyJG5ubkrVqxo1KiRdL3Spk2bpH2YkpKya9eu9PT0a9euhYeH9+rVS3rWnDlzevbsmZWVtW3bNg8Pj6KiInO+B/mglAYFBX311Ve5ubljxox56623pPUffvih/noNxliLFi22bNmif5icnLx79+6MjIyrV6/279+/T58+pq5btu7cuXPu3LlXXnllzpw5586dU6vVjLEtW7Z88cUX0gZhYWH/+c9/8vLyIiMjw8LCpJXz5s3r0aNHVlbWjh073N3dpWcZyLJaYDzP79mz58CBAx06dKhWrdqSJUuk9RqNRvojyNXVddeuXUuWLAkNDW3Xrt306dOlDbZu3XrlypV27dplZWWtWbPGbG9Abho2bLhu3bqIiIi+ffuOHDly1KhR0vqSkhLGGCEkNzc3KCjos88+i4yMjIyMjImJIYSo1epZs2aFhITMnj37/fff/+CDD8z5HmRlyZIlDg4OHTp02Lt37969e6XrlXQ6nb4Vu2bNmu7du48aNcrPz2/Lli3SytmzZzdu3LhLly6rVq3at28fbrZiII7jdu/e/dtvv3Xo0EEQhC+//FJarz+fEELS09O9vLxee+01/bMYY1FRUd26dRs9erS/v//mzZvNULo87d+/PzIysnr16qdPn46MjLx16xYhRKfTSd1jhJANGzakpaW1a9cuJSVFP7IYGRnZrFmzLl26LFu2bO/evdKXwwyE2egBAECWLKsFBgAAYCAEGAAAyBICDAAAZAkBBgAAsoQAAwAAWUKAAQCALCHAAABAlhBgAAAgSwgwAACQJQQYAADIEgIMAABk6f8BALH+dI/dPZkAAAAASUVORK5CYII=\" />"
            ]
          }
        }
      ],
      "source": [
        "x = range(0.0, 1.0; length = 5)\n",
        "@show x\n",
        "@show Vector(x)\n",
        "plot(x, sqrt.(x);size=(600,400))"
      ],
      "id": "68578850"
    },
    {
      "cell_type": "markdown",
      "metadata": {},
      "source": [
        "## Defining Functions\n",
        "\n",
        "-   You can create anonymous functions as in R, but it is harder for the\n",
        "    compiler because the type `f3` can change. Avoid `->` if name\n",
        "    required"
      ],
      "id": "7ead452f-0b31-4834-be8c-712b65ec3307"
    },
    {
      "cell_type": "code",
      "execution_count": 12,
      "metadata": {},
      "outputs": [
        {
          "output_type": "stream",
          "name": "stdout",
          "text": [
            "(f(2), f2(2), f3(2)) = (4, 4, 4)"
          ]
        }
      ],
      "source": [
        "f(x) = x^2\n",
        "function f2(x)\n",
        "    return x^2\n",
        "end\n",
        "f3 = x -> x^2 # assignment not required\n",
        "@show f(2), f2(2), f3(2);"
      ],
      "id": "3f839f9f"
    },
    {
      "cell_type": "markdown",
      "metadata": {},
      "source": [
        "## Default Arguments"
      ],
      "id": "efeeb797-fe5d-4de1-8327-d8064fa6e439"
    },
    {
      "cell_type": "code",
      "execution_count": 13,
      "metadata": {},
      "outputs": [
        {
          "output_type": "stream",
          "name": "stdout",
          "text": [
            "f(pi) = 0.36787944117144233\n",
            "f(pi, 2) = 2.718281828459045"
          ]
        }
      ],
      "source": [
        "f(x, a = 1) = exp(cos(a * x))\n",
        "@show f(pi)\n",
        "@show f(pi, 2);"
      ],
      "id": "cbc01d36"
    },
    {
      "cell_type": "markdown",
      "metadata": {},
      "source": [
        "## Keyword Arguments"
      ],
      "id": "ad09f3d5-a1f7-41d6-80d4-bd599c48a91e"
    },
    {
      "cell_type": "code",
      "execution_count": 14,
      "metadata": {},
      "outputs": [
        {
          "output_type": "stream",
          "name": "stdout",
          "text": [
            "f(pi) = 0.36787944117144233\n",
            "f(pi; a = 2) = 2.718281828459045\n",
            "f(pi; a) = 2.718281828459045"
          ]
        }
      ],
      "source": [
        "f2(x; a = 1) = exp(cos(a * x))  # note the ; in the definition\n",
        "# same as longform\n",
        "function f(x; a = 1)\n",
        "    return exp(cos(a * x))\n",
        "end\n",
        "@show f(pi)\n",
        "@show f(pi; a = 2) # passing in adate\n",
        "a = 2\n",
        "@show f(pi; a); # equivalent to f(pi; a = a)"
      ],
      "id": "5a728c6a"
    },
    {
      "cell_type": "markdown",
      "metadata": {},
      "source": [
        "## Closures\n",
        "\n",
        "-   In general, try to avoid globals and closures outside of functions"
      ],
      "id": "0164e661-8a17-415a-8cf7-c675d38e5f0c"
    },
    {
      "cell_type": "code",
      "execution_count": 15,
      "metadata": {},
      "outputs": [
        {
          "output_type": "stream",
          "name": "stdout",
          "text": [
            "f(1) = 0.2\n",
            "f(1) = 0.3"
          ]
        }
      ],
      "source": [
        "a = 0.2\n",
        "f(x) = a * x^2  # refers to the `a` in the outer scope\n",
        "@show f(1)\n",
        "# The a is captured in this scope by name.  Careful!\n",
        "a = 0.3\n",
        "@show f(1);"
      ],
      "id": "00a655aa"
    },
    {
      "cell_type": "markdown",
      "metadata": {},
      "source": [
        "## Closures Inside Functions\n",
        "\n",
        "-   But within a function they are safe, common, and usually free of\n",
        "    overhead"
      ],
      "id": "a365ed0b-08c4-4be1-8c68-3798228cf197"
    },
    {
      "cell_type": "code",
      "execution_count": 16,
      "metadata": {},
      "outputs": [
        {
          "output_type": "stream",
          "name": "stdout",
          "text": [
            "g(0.2) = 0.2"
          ]
        }
      ],
      "source": [
        "function g(a)\n",
        "    f(x) = a * x^2  # refers to the `a` passed in the function\n",
        "    return f(1)\n",
        "end\n",
        "a = 123.5 # Different scope than the `a` in function\n",
        "@show g(0.2);"
      ],
      "id": "afae09c5"
    },
    {
      "cell_type": "markdown",
      "metadata": {},
      "source": [
        "## Tuples and Named Tuples"
      ],
      "id": "bbbe03ee-433e-45cb-b59e-a93e149a6914"
    },
    {
      "cell_type": "code",
      "execution_count": 17,
      "metadata": {},
      "outputs": [
        {
          "output_type": "stream",
          "name": "stdout",
          "text": [
            "t[1] = 1\n",
            "nt = (a = 1, b = 2.0, c = \"hello\")\n",
            "nt.a = 1"
          ]
        }
      ],
      "source": [
        "t = (1, 2.0, \"hello\")\n",
        "@show t[1]\n",
        "nt = (;a = 1, b = 2.0, c = \"hello\")\n",
        "@show nt\n",
        "@show nt.a; # can't use nt[1] or nt[\"a\"]"
      ],
      "id": "fb6ffc54"
    },
    {
      "cell_type": "markdown",
      "metadata": {},
      "source": [
        "## Tuples Packing and Unpacking"
      ],
      "id": "d4438b24-f83a-4a97-a79b-74b2219c09fc"
    },
    {
      "cell_type": "code",
      "execution_count": 18,
      "metadata": {},
      "outputs": [
        {
          "output_type": "stream",
          "name": "stdout",
          "text": [
            "solve_model(0.1) = (a = 0.010000000000000002, b = 0.020000000000000004, c = 0.030000000000000006)\n",
            "a = 0.010000000000000002, c = 0.030000000000000006"
          ]
        }
      ],
      "source": [
        "function solve_model(x)\n",
        "    a = x^2\n",
        "    b = 2 * a\n",
        "    c = a + b\n",
        "    return (; a, b, c)  # note local scope of tuples!\n",
        "end\n",
        "@show solve_model(0.1)\n",
        "# can unpack in different order, or use subset of values\n",
        "(; c, a) = solve_model(0.1)\n",
        "println(\"a = $a, c = $c\");"
      ],
      "id": "9a07fdfb"
    },
    {
      "cell_type": "markdown",
      "metadata": {},
      "source": [
        "## Array Basics"
      ],
      "id": "a2ecf3d4-261e-43c9-9623-baef49ba139b"
    },
    {
      "cell_type": "code",
      "execution_count": 19,
      "metadata": {
        "output-location": "column"
      },
      "outputs": [
        {
          "output_type": "stream",
          "name": "stdout",
          "text": [
            "size(b) = (3,)\n",
            "size(A) = (2, 2)\n",
            "typeof(b) = Vector{Float64}\n",
            "typeof(A) = Matrix{Int64}\n",
            "zeros(3) = [0.0, 0.0, 0.0]\n",
            "ones(2, 2) = [1.0 1.0; 1.0 1.0]\n",
            "fill(1.0, 2, 2) = [1.0 1.0; 1.0 1.0]\n",
            "similar(A) = [0 0; 140622907780544 0]\n",
            "A[1, 1] = 1\n",
            "A[1, :] = [1, 2]\n",
            "A[1:end, 1] = [1, 3]"
          ]
        }
      ],
      "source": [
        "b = [1.0, 2.1, 3.0] # 1d array\n",
        "A = [1 2; 3 4] # 2x2 matrix\n",
        "@show size(b)\n",
        "@show size(A)\n",
        "@show typeof(b)\n",
        "@show typeof(A)\n",
        "@show zeros(3)\n",
        "@show ones(2, 2)\n",
        "@show fill(1.0, 2, 2)\n",
        "@show similar(A)\n",
        "@show A[1, 1]\n",
        "@show A[1, :]\n",
        "@show A[1:end, 1];"
      ],
      "id": "5116180b"
    },
    {
      "cell_type": "markdown",
      "metadata": {},
      "source": [
        "## Linear Algebra Basics"
      ],
      "id": "bd7a28a4-79c9-43cc-8af8-d2b1a9f722ba"
    },
    {
      "cell_type": "code",
      "execution_count": 20,
      "metadata": {
        "output-location": "column"
      },
      "outputs": [
        {
          "output_type": "stream",
          "name": "stdout",
          "text": [
            "A * b = [5, 11]\n",
            "A' = [1 3; 2 4]\n",
            "dot(b, [5.0, 2.0]) = 9.0\n",
            "b' * b = 5\n",
            "Diagonal([1.0, 2.0]) = [1.0 0.0; 0.0 2.0]\n",
            "I = UniformScaling{Bool}(true)\n",
            "inv(A) = [-1.9999999999999996 0.9999999999999998; 1.4999999999999998 -0.4999999999999999]"
          ]
        }
      ],
      "source": [
        "A = [1 2; 3 4]\n",
        "b = [1, 2]\n",
        "@show A * b # Matrix product\n",
        "@show A' # transpose\n",
        "@show dot(b, [5.0, 2.0]) # dot product\n",
        "@show b' * b # dot product\n",
        "@show Diagonal([1.0, 2.0]) # diagonal matrix\n",
        "@show I # identity matrix\n",
        "@show inv(A); # inverse"
      ],
      "id": "0d7a4afb"
    },
    {
      "cell_type": "markdown",
      "metadata": {},
      "source": [
        "## Modifying Vectors\n",
        "\n",
        "-   Scalars and tuples/named tuples are immutable\n",
        "-   Vectors and matrices are mutable"
      ],
      "id": "150f60bb-b177-420a-9804-afbbeac7f404"
    },
    {
      "cell_type": "code",
      "execution_count": 21,
      "metadata": {
        "output-location": "column"
      },
      "outputs": [
        {
          "output_type": "stream",
          "name": "stdout",
          "text": [
            "A = [2 2; 3 4]\n",
            "b = [2, 2]\n",
            "b = [3, 4]\n",
            "A = [3 4; 3 4]"
          ]
        }
      ],
      "source": [
        "A = [1 2; 3 4]\n",
        "A[1, 1] = 2\n",
        "@show A\n",
        "b = [1, 2]\n",
        "b[1] = 2\n",
        "@show b\n",
        "b .= [3, 4] # otherwise just renamed\n",
        "@show b\n",
        "A[1, :] .= [3, 4] # assign slice\n",
        "@show A;"
      ],
      "id": "97299dc9"
    },
    {
      "cell_type": "markdown",
      "metadata": {},
      "source": [
        "## Learning More\n",
        "\n",
        "-   Clone the QuantEcon lectures\n",
        "    -   `> Git: Clone` the\n",
        "        `https://github.com/quantecon/lecture-julia.notebooks`\n",
        "-   This covers part of [Julia\n",
        "    Essentials](https://julia.quantecon.org/getting_started_julia/julia_essentials.html)\n",
        "    and [Fundamental\n",
        "    Types](https://julia.quantecon.org/getting_started_julia/fundamental_types.html)\n",
        "-   Other more advanced lectures, not required for this course, are\n",
        "    -   [Introduction to Types and Generic\n",
        "        Programming](https://julia.quantecon.org/more_julia/generic_programming.html)\n",
        "    -   [Generic\n",
        "        Programming](https://julia.quantecon.org/more_julia/generic_programming.html)\n",
        "    -   [Visual Studio and Other\n",
        "        Tools](https://julia.quantecon.org/software_engineering/tools_editors.html)"
      ],
      "id": "c5864170-0796-4639-a14f-b3fcf347dedb"
    }
  ],
  "nbformat": 4,
  "nbformat_minor": 5,
  "metadata": {
    "kernelspec": {
      "name": "julia-1.11",
      "display_name": "Julia 1.11.3",
      "language": "julia",
      "path": "/home/runner/.local/share/jupyter/kernels/julia-1.11"
    },
    "language_info": {
      "name": "julia",
      "file_extension": ".jl",
      "mimetype": "application/julia",
      "version": "1.11.3"
    }
  }
}