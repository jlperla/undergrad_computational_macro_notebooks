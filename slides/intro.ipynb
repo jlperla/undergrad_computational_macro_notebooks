{
  "cells": [
    {
      "cell_type": "markdown",
      "metadata": {},
      "source": [
        "# Course Overview and Computational Environment\n",
        "\n",
        "Undergraduate Computational Macro\n",
        "\n",
        "Jesse Perla (University of British Columbia)\n",
        "\n",
        "# Course Overview and Objectives\n",
        "\n",
        "## Course Structure and Prerequisites\n",
        "\n",
        "-   “Macroconomics on a computer”. Mostly macro-finance and macro-labor\n",
        "    -   Not an intro to programming course or stats/econometrics class\n",
        "    -   Less programming than ECON323, more math and theory\n",
        "-   Build experience with computational tools and structural models in\n",
        "    macroeconomics which can help you conduct “counterfactuals”\n",
        "    -   Lots of simulation, but not much data or empirics\n",
        "    -   Complement to other courses focusing on “field” topics,\n",
        "        empirics, estimation, inference, datascience, etc.\n",
        "\n",
        "## Prerequisites\n",
        "\n",
        "-   You need to have\n",
        "    -   One of ECON 301, ECON 304, ECON 308\n",
        "    -   One of ECON 323, CPSC 103, CPSC 110, MATH 210, COMM 337\n",
        "    -   One of MATH 221, MATH 223.\n",
        "-   **Not negotiable** to have intermediate micro\n",
        "-   **Not negotiable** to have the formal programming class in some\n",
        "    general purpose language (e.g., Stata and R don’t count, self-study\n",
        "    isn’t enough)\n",
        "-   Math requirement you can talk to me, especially if you took ECON307\n",
        "    or have significant background in linear algebra and multivariate\n",
        "    calculus\n",
        "\n",
        "## Assessments\n",
        "\n",
        "-   Grading:\n",
        "    -   6-8 problem sets: 20% (total)\n",
        "    -   Midterm exam: 30%\n",
        "    -   Final exam: 50%\n",
        "-   Midterm and final examinations will be done in a computer lab or on\n",
        "    your own computer in class. Not testing programming skills\n",
        "-   Problem sets will start off short and easy to help those with less\n",
        "    programming experience, and then build in (economics) complexity.\n",
        "-   See the [syllabus](../pages/syllabus.qmd) for missed exam policies\n",
        "\n",
        "# Programming Languages\n",
        "\n",
        "## Which Language?\n",
        "\n",
        "-   Plenty of languages used in economics and finance: Matlab, Python,\n",
        "    Julia, Fortran, C++, Stata, Dynare, R, Stan…\n",
        "    -   All are great for some things, and terrible for others\n",
        "    -   Some are highly specialized and less general purpose than others\n",
        "        (e.g. Stata and R)\n",
        "-   I love specialized languages! But…\n",
        "    -   My philosophy is you will need to learn **at least** two general\n",
        "        purpose programming languages over your career.\n",
        "\n",
        "## Benefits of Learning more Languages\n",
        "\n",
        "Plan for your longrun career, languages come and go…\n",
        "\n",
        "-   The 2nd language makes you a better programmer at both\n",
        "-   The 3rd is even easier as you learn similarities and differences\n",
        "-   On grad school or job applications everyone says they know Python\n",
        "    -   Differentiator to credibly claim you know another serious\n",
        "        language\n",
        "    -   Increasingly important to **signal** computational\n",
        "        sophistication to get jobs\n",
        "    -   Julia is as good as any for that purpose\n",
        "\n",
        "## Advantages of Learning Julia for Economics and Finance\n",
        "\n",
        "-   Python is great for datascience and ML, but “ugly”, verbose, and\n",
        "    slow to use directly for many simulations and computational methods\n",
        "    -   Python wrappers for high-performance code used in ML are great\n",
        "    -   But when an appropriate framework doesn’t exist, writing fast\n",
        "        code yourself in Python is much harder than in Julia\n",
        "    -   Performance in Python usually means C++ or frameworks like JAX\n",
        "-   Julia (and Matlab) is more natural for programming mathematics than\n",
        "    Python. Easier to learn than alternative Python packages.\n",
        "-   Many in economists and finance research use Julia for computational\n",
        "    methods, so it may help you directly\n",
        "\n",
        "## Don’t Worry If You are New to Programming\n",
        "\n",
        "-   Costs of learning languages has decreasing returns to scale\n",
        "    -   Learning the **first programming language is the hardest**\n",
        "-   Julia will come easily if you have the prerequisities (i.e. a course\n",
        "    using Matlab or Python, sadly R is not sufficient preparation)\n",
        "-   Submitting your code in Matlab or Python is not possible given the\n",
        "    course structure and infrastructure\n",
        "\n",
        "# Quantitative, Empirical, and Theoretical Economics\n",
        "\n",
        "## Why Isn’t Big Data ML/Statistics Enough?\n",
        "\n",
        "-   Going well before the big data/ML revolution economists asked\n",
        "    whether they could just use statistical models with enough data\n",
        "    -   Answer: only if you had the right (statistical) model for a\n",
        "        particular experiment, but historical data doesn’t have\n",
        "        variation in crucial directions\n",
        "    -   The right “statistical model” would need to reflect that humans\n",
        "        adapt and make forecasts - responding to policy and incentives\n",
        "    -   Especially difficult in macro because of dynamics and GE effects\n",
        "    -   Cowles Commision, Lucas Critique, Policy Ineffectiveness\n",
        "        Proposition (Sargent and Wallace), Time Inconsistency (Kydland\n",
        "        and Prescott)\n",
        "-   Having more data and fancier statistics doesn’t solve these problems\n",
        "\n",
        "## Forecasts and Distributions\n",
        "\n",
        "-   Summary: conducting experiments with a data generating process (DGP)\n",
        "    is fine, but how to find the right one **for a given problem**?  \n",
        "-   Think probabilistically: the world is a joint distribution of\n",
        "    observables, unobservables (i.e., latent variables), shocks, and\n",
        "    parameters\n",
        "-   Joint distributions let you calculate conditional expectations and\n",
        "    conduct “experiments” by conditioning on different events\n",
        "-   Statistics and machine learning is often criticized as being only\n",
        "    about “prediction” and sometimes “inference”\n",
        "    -   This isn’t quite true, but lets us ask what prediction really\n",
        "        means\n",
        "\n",
        "## Counterfactuals: “What If?”\n",
        "\n",
        "-   Most interesting problems in economics are about counterfactuals\n",
        "    -   What would unemployment have been if the government had not\n",
        "        intervened during the recession?\n",
        "    -   What would have been her income if she had not gone to college,\n",
        "        or if she wasn’t subjected to gender bias?\n",
        "-   By definition these are not observable. If we had the data already\n",
        "    we wouldn’t need to ponder these “What if?”\n",
        "-   How can you answer a question with data that doesn’t exist?"
      ],
      "id": "362edd13-7037-448b-9e00-1d9df71cf93e"
    },
    {
      "cell_type": "raw",
      "metadata": {
        "raw_mimetype": "text/html"
      },
      "source": [
        "<center>"
      ],
      "id": "54fa1ab4-c45b-4282-876d-3ab75c572663"
    },
    {
      "cell_type": "markdown",
      "metadata": {},
      "source": [
        "**YOU HAVE TO MAKE SOMETHING UP**"
      ],
      "id": "1e966a50-96f9-47be-97c8-e57c00674d05"
    },
    {
      "cell_type": "raw",
      "metadata": {
        "raw_mimetype": "text/html"
      },
      "source": [
        "</center>"
      ],
      "id": "0757ce49-bdbe-4c2d-b7f7-6ce3a35c76d7"
    },
    {
      "cell_type": "markdown",
      "metadata": {},
      "source": [
        "## The Role of Theory\n",
        "\n",
        "-   There is no data interpretation without some theory - even if it is\n",
        "    sometimes implicit. Interpreting empirical results require\n",
        "    self-reflection\n",
        "-   The role of both data and theory is then to help constrain the set\n",
        "    of possible counterfactuals for the “what if?”\n",
        "-   So any criticisms of ML or statistics as “merely prediction” are\n",
        "    basically a statement on whether the theory makes sense\n",
        "    -   i.e., if you fit $y = f(X) + \\epsilon$ on data to find a\n",
        "        $\\hat{f}(X)$ function, then theory tells you if you made the\n",
        "        right assumptions (e.g., that the $X$ data is representative and\n",
        "        wouldn’t change for your counterfactual of interest, etc)\n",
        "\n",
        "## Approach in this Course\n",
        "\n",
        "-   Always remember: you need assumptions in one form or another because\n",
        "    the counterfactuals are inherently not in the data\n",
        "-   Broadly there are three approaches to conducting counterfactuals.\n",
        "    They are not mutually exclusive\n",
        "    1.  Structural models emphasize theory as structure on the joint\n",
        "        distribution\n",
        "    2.  Causal inference using matching, instrumental variables, etc.\n",
        "        which use theoretical assumptions on independence to adjust for\n",
        "        bias and missing unobservable (latent) variables\n",
        "    3.  Randomized Experiments/Treatment Effects where you can get good\n",
        "        data which truly randomizes some sort of “treatment”.\n",
        "-   In this course we will focus on **simulations and structural\n",
        "    models** - sometimes called “quantitative economics”\n",
        "\n",
        "## Macroeconomic Models Require Lots of Tools\n",
        "\n",
        "-   Conducting macroeconomic counterfactuals requires a lot of tools\n",
        "    because\n",
        "    -   Macroeconomic decisions are dynamic and often stochastic\n",
        "    -   Agents are forward looking\n",
        "    -   Agents interact through markets and prices, which creates\n",
        "        “general equilibrium” effects (i.e., which are inherently\n",
        "        nonlinear)\n",
        "    -   Heterogeneity leads to the distributional being crucial\n",
        "    -   Agent’s may respond to policies by thinking through the dynamic\n",
        "        effects\n",
        "-   We formalize these assumptions with math, but we are rarely able to\n",
        "    solve them analytically. Use a computer!\n",
        "\n",
        "## Tools Topics\n",
        "\n",
        "See Syllabus for more details\n",
        "\n",
        "1.  Linear algebra and basic scientific computing\n",
        "2.  Geometric Series and Discrete Time Dynamics\n",
        "3.  Basic Stochastic Processes\n",
        "4.  Linear State Space Models\n",
        "5.  Markov Chains\n",
        "6.  Dynamic Programming\n",
        "\n",
        "## Applications Topics\n",
        "\n",
        "The tools are interleaved with applications such as\n",
        "\n",
        "1.  Marginal Propensity to Consume\n",
        "2.  Dynamics of Wealth and Distributions\n",
        "3.  Permanent Income Model\n",
        "4.  Models of Unemployment\n",
        "5.  Asset Pricing\n",
        "6.  Lucas Trees and No-arbitrage Option Pricing\n",
        "7.  Recursive Equilibria and the McCall Search Model\n",
        "8.  Time permitting: Rational Expectations and Firm Equilibria, Growth\n",
        "    Models\n",
        "\n",
        "# Computational Environment\n",
        "\n",
        "## Setup\n",
        "\n",
        "-   You can install Julia on your laptop by following [these\n",
        "    instructions](https://julia.quantecon.org/getting_started_julia/getting_started.html)\n",
        "-   While one can use Julia entirely from just Jupyter notebooks, we\n",
        "    will also introduce basic [GitHub](https://github.com/) and [VS\n",
        "    Code](https://code.visualstudio.com/) usage as well to help broaden\n",
        "    your exposure to computational tools.\n",
        "-   So my suggestion is to challenge yourself to learn VS Code, GitHub,\n",
        "    and other tools. Further **signalling** for RA/predoc/jobs/etc.\n",
        "\n",
        "## Summary of Installation\n",
        "\n",
        "1.  Install\n",
        "    [Git](https://git-scm.com/book/en/v2/Getting-Started-Installing-Git/)\n",
        "2.  Install [Anaconda](https://www.anaconda.com/download)\n",
        "3.  Install Julia with\n",
        "    [juliaup](https://github.com/JuliaLang/juliaup#installation)\n",
        "    -   Windows: easiest method is `winget install julia -s msstore` in\n",
        "        a Windows terminal\n",
        "    -   Linux/Mac: in a terminal use\n",
        "        `curl -fsSL https://install.julialang.org | sh`\n",
        "4.  Install [Visual Studio Code (VS\n",
        "    Code)](https://code.visualstudio.com/)\n",
        "5.  Install the [VS Code\n",
        "    Julia](https://marketplace.visualstudio.com/items?itemName=julialang.language-julia)\n",
        "    extension\n",
        "\n",
        "## Some Common Errors on MacOS\n",
        "\n",
        "-   To open a terminal on MacOS\n",
        "\n",
        "    -   Press `Cmd + Space` to open Spotlight, then type `Terminal`\n",
        "    -   Or with VS Code `<Cmd-Shift-P>` then `View: Toggle Terminal`\n",
        "\n",
        "-   If you get permissions problems try\n",
        "\n",
        "        sudo curl -fsSL https://install.julialang.org | sh\n",
        "\n",
        "-   If it still shows errors, then [see\n",
        "    here](https://github.com/JuliaLang/juliaup/wiki/Permission-problems-during-setup)\n",
        "    and do some combo of\n",
        "\n",
        "        sudo chown $(id -u):$(id -g) ~/.bashrc\n",
        "        sudo chown $(id -u):$(id -g) ~/.zshrc\n",
        "        sudo chown $(id -u):$(id -g) ~/.bash_profile\n",
        "\n",
        "    -   Then retry `sudo curl -fsSL https://install.julialang.org | sh`\n",
        "\n",
        "## Clone Notebooks and Install Packages\n",
        "\n",
        "1.  Open the command palette with `<Ctrl+Shift+P>` or `<Cmd+Shift+P>` on\n",
        "    mac and type `> Git: Clone` and choose\n",
        "    `https://github.com/jlperla/undergrad_computational_macro_notebooks`\n",
        "\n",
        "2.  Instantiate packages, in VSCode or\n",
        "\n",
        "    -   Run a terminal in that directory\n",
        "    -   Then `julia` and `]` enters package mode\n",
        "    -   `] add IJulia`, which adds to global environment\n",
        "    -   `] activate`, which chooses the `Project.toml` file\n",
        "    -   `] instantiate`\n",
        "\n",
        "3.  Then use VS Code or `jupyter lab` to open\n",
        "\n",
        "## Julia Environment Basics\n",
        "\n",
        "-   Project files keep track of dependencies and make things\n",
        "    reproducible\n",
        "    -   Similar to Python’s virtual environments but easier to use\n",
        "-   VS Code and Jupyter will automatically activate a `Project.toml`\n",
        "    -   In REPL or Jupyter enter `]` for managing packages\n",
        "    -   Can manually activate with `] activate` or\n",
        "        `] activate path/to/project`\n",
        "    -   On commandline, can use `julia --project`\n",
        "    -   If a file doesn’t exist, then `]activate` creates one for the\n",
        "        folder\n",
        "-   With activated project, use `] instantiate` to install all the\n",
        "    packages\n",
        "-   For this course: no package management required after instantiation\n",
        "\n",
        "## Reproducibility\n",
        "\n",
        "-   **ALWAYS** use a `Project.toml` file\n",
        "    -   Keep your global environment as clean\n",
        "    -   Enough to do `] add IJulia`\n",
        "-   Associated with `Project.toml` is a `Manifest.toml` file which\n",
        "    establishes the exact versions for reproducibility\n",
        "    -   `] instantiate` will install the exact versions\n",
        "    -   Less important for us, but very useful for reproducibility in\n",
        "        research to distribute with project\n",
        "\n",
        "# Crash Course on Julia\n",
        "\n",
        "## Introductory Lectures\n",
        "\n",
        "-   Assuming you are familiar with Matlab or Python, Julia will be easy\n",
        "    to learn\n",
        "-   Adapted from QuantEcon lectures coauthored with John Stachurski and\n",
        "    Thomas J. Sargent\n",
        "    -   [Julia by\n",
        "        Example](https://julia.quantecon.org/getting_started_julia/julia_by_example.html)\n",
        "    -   [Essentials](https://julia.quantecon.org/getting_started_julia/julia_essentials.html)\n",
        "    -   [Fundamental\n",
        "        Types](https://julia.quantecon.org/getting_started_julia/fundamental_types.html)\n",
        "\n",
        "## Using Packages\n",
        "\n",
        "-   First ensure your project is activated and packages instantiated"
      ],
      "id": "fb76c6e8-cdcd-4c27-8d54-f1b882de0c14"
    },
    {
      "cell_type": "code",
      "execution_count": 1,
      "metadata": {},
      "outputs": [],
      "source": [
        "using LinearAlgebra, Statistics, Plots"
      ],
      "id": "f8066d84"
    },
    {
      "cell_type": "markdown",
      "metadata": {},
      "source": [
        "## Plotting Random Numbers"
      ],
      "id": "ec169027-eab1-4203-ae19-8d9666a10b4c"
    },
    {
      "cell_type": "code",
      "execution_count": 2,
      "metadata": {
        "output-location": "column"
      },
      "outputs": [
        {
          "output_type": "display_data",
          "metadata": {},
          "data": {
            "text/html": [
              "<img src=\"data:image/png;base64,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\" />"
            ]
          }
        }
      ],
      "source": [
        "n = 20\n",
        "ep = randn(n)\n",
        "plot(1:n, ep;size=(600,400))"
      ],
      "id": "4a29b821"
    },
    {
      "cell_type": "markdown",
      "metadata": {},
      "source": [
        "## Loops"
      ],
      "id": "86356848-5f28-48e5-b3d6-4d6fdbdc3c27"
    },
    {
      "cell_type": "code",
      "execution_count": 3,
      "metadata": {},
      "outputs": [
        {
          "output_type": "stream",
          "name": "stdout",
          "text": [
            "[-2.5715463531259823, 0.16620683480385026, 0.2206592907784704, -0.3319870766260662, -0.28097185017645954]"
          ]
        }
      ],
      "source": [
        "n = 100\n",
        "ep = zeros(n)\n",
        "for i in 1:n\n",
        "    ep[i] = randn()\n",
        "end\n",
        "println(ep[1:5])"
      ],
      "id": "312c8a1d"
    },
    {
      "cell_type": "markdown",
      "metadata": {},
      "source": [
        "## Comprehensions"
      ],
      "id": "329c34ad-37f9-49c8-b6e7-cc3cc6623554"
    },
    {
      "cell_type": "code",
      "execution_count": 4,
      "metadata": {},
      "outputs": [
        {
          "output_type": "stream",
          "name": "stdout",
          "text": [
            "[2i for i = 1:4] = [2, 4, 6, 8]"
          ]
        }
      ],
      "source": [
        "# Comprehensions\n",
        "@show [2 * i for i in 1:4];"
      ],
      "id": "58697d0b"
    },
    {
      "cell_type": "markdown",
      "metadata": {},
      "source": [
        "## Manually Calculated Mean"
      ],
      "id": "9b520e8f-d775-494a-bb62-46ac4eb832c9"
    },
    {
      "cell_type": "code",
      "execution_count": 5,
      "metadata": {},
      "outputs": [
        {
          "output_type": "stream",
          "name": "stdout",
          "text": [
            "ep_mean = ep_sum / length(ep) = 0.0401807867660726\n",
            "ep_mean ≈ mean(ep) = true\n",
            "ep_mean = 0.0401807867660726\n",
            "sum(ep) / length(ep) = 0.04018078676607261\n",
            "sum((ep_val for ep_val = ep)) / length(ep) = 0.0401807867660726"
          ]
        }
      ],
      "source": [
        "ep_sum = 0.0 # careful to use 0.0 here, instead of 0\n",
        "for ep_val in ep\n",
        "    ep_sum = ep_sum + ep_val\n",
        "end\n",
        "@show ep_mean = ep_sum / length(ep)\n",
        "@show ep_mean ≈ mean(ep)\n",
        "@show ep_mean\n",
        "@show sum(ep) / length(ep)\n",
        "@show sum(ep_val for ep_val in ep) / length(ep); # generator/comprehension"
      ],
      "id": "4f4d34a3"
    },
    {
      "cell_type": "markdown",
      "metadata": {},
      "source": [
        "## Functions"
      ],
      "id": "d78aafea-5886-431b-8996-b43f465c459a"
    },
    {
      "cell_type": "code",
      "execution_count": 6,
      "metadata": {},
      "outputs": [
        {
          "output_type": "stream",
          "name": "stdout",
          "text": [
            "[0.7213986057967062, 0.6440316926654545, 8.632560581441034, 2.313849305855485, 0.5485290589939668]"
          ]
        }
      ],
      "source": [
        "function generatedata(n)\n",
        "    ep = randn(n) # use built in function\n",
        "    for i in eachindex(ep) # or i in 1:length(ep)\n",
        "        ep[i] = ep[i]^2 # squaring the result\n",
        "    end\n",
        "    return ep\n",
        "end\n",
        "data = generatedata(5)\n",
        "println(data)"
      ],
      "id": "a1f81185"
    },
    {
      "cell_type": "markdown",
      "metadata": {},
      "source": [
        "## Broadcasting"
      ],
      "id": "d4dfdd9b-5b0a-4482-b488-205120320a12"
    },
    {
      "cell_type": "code",
      "execution_count": 7,
      "metadata": {},
      "outputs": [
        {
          "output_type": "stream",
          "name": "stdout",
          "text": [
            "generatedata(5) = [0.47728506887111977, 0.9256696354907946, 0.0008598169853564046, 0.8338625604309469, 4.396672667325533e-5]\n",
            "generatedata2(5) = [4.312829111544434, 0.7317254495823665, 2.331317706674737, 1.291857864343339, 0.2145249909179927]"
          ]
        }
      ],
      "source": [
        "function generatedata(n)\n",
        "    ep = randn(n) # use built in function\n",
        "    return ep .^ 2\n",
        "end\n",
        "@show generatedata(5)\n",
        "generatedata2(n) = randn(n) .^ 2\n",
        "@show generatedata2(5);"
      ],
      "id": "7f96f3be"
    },
    {
      "cell_type": "markdown",
      "metadata": {},
      "source": [
        "## Higher Order Functions"
      ],
      "id": "bfdae2ad-e943-4254-bc5b-6a79de7cef08"
    },
    {
      "cell_type": "code",
      "execution_count": 8,
      "metadata": {},
      "outputs": [
        {
          "output_type": "stream",
          "name": "stdout",
          "text": [
            "generatedata3(5, f) = [0.29109686433977405, 4.01698164921833, 0.2469589900772497, 0.14291292077346565, 0.7742791320862281]"
          ]
        }
      ],
      "source": [
        "generatedata3(n, gen) = gen.(randn(n)) # broadcasts on gen\n",
        "f(x) = x^2 # simple square function\n",
        "@show generatedata3(5, f); # applies f"
      ],
      "id": "bb59a9ff"
    },
    {
      "cell_type": "markdown",
      "metadata": {},
      "source": [
        "## More Plotting Examples"
      ],
      "id": "814035f2-19db-4f77-9ffb-403647ea4a9d"
    },
    {
      "cell_type": "code",
      "execution_count": 9,
      "metadata": {
        "output-location": "column"
      },
      "outputs": [
        {
          "output_type": "display_data",
          "metadata": {},
          "data": {
            "text/html": [
              "<img src=\"data:image/png;base64,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\" />"
            ]
          }
        }
      ],
      "source": [
        "using Distributions\n",
        "function plothistogram(dist, n)\n",
        "    # n draws from distribution\n",
        "    ep = rand(dist, n) \n",
        "    return histogram(ep;size=(600,400))\n",
        "end\n",
        "dist = Laplace() # dist != dist in function\n",
        "plothistogram(dist, 500)"
      ],
      "id": "ad8980c6"
    },
    {
      "cell_type": "markdown",
      "metadata": {},
      "source": [
        "## Changing Types\n",
        "\n",
        "-   The `rand(dist, n)` changes its behavior based on the type of `dist`"
      ],
      "id": "8c94662c-b587-4252-b280-bff683de8205"
    },
    {
      "cell_type": "code",
      "execution_count": 10,
      "metadata": {
        "output-location": "column"
      },
      "outputs": [
        {
          "output_type": "display_data",
          "metadata": {},
          "data": {
            "text/html": [
              "<img src=\"data:image/png;base64,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\" />"
            ]
          }
        }
      ],
      "source": [
        "dist = Normal()\n",
        "plothistogram(Normal(), 500)"
      ],
      "id": "ed1f41cf"
    },
    {
      "cell_type": "markdown",
      "metadata": {},
      "source": [
        "## Ranges"
      ],
      "id": "dfca32dd-31ef-47e6-8294-b07518062771"
    },
    {
      "cell_type": "code",
      "execution_count": 11,
      "metadata": {
        "output-location": "column"
      },
      "outputs": [
        {
          "output_type": "stream",
          "name": "stdout",
          "text": [
            "x = 0.0:0.25:1.0\n",
            "Vector(x) = [0.0, 0.25, 0.5, 0.75, 1.0]"
          ]
        },
        {
          "output_type": "display_data",
          "metadata": {},
          "data": {
            "text/html": [
              "<img src=\"data:image/png;base64,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\" />"
            ]
          }
        }
      ],
      "source": [
        "x = range(0.0, 1.0; length = 5)\n",
        "@show x\n",
        "@show Vector(x)\n",
        "plot(x, sqrt.(x);size=(600,400))"
      ],
      "id": "6a24a5d8"
    },
    {
      "cell_type": "markdown",
      "metadata": {},
      "source": [
        "## Defining Functions\n",
        "\n",
        "-   You can create anonymous functions as in R, but it is harder for the\n",
        "    compiler because the type `f3` can change. Avoid `->` if name\n",
        "    required"
      ],
      "id": "d7fef335-7537-4568-a238-61404f4747f7"
    },
    {
      "cell_type": "code",
      "execution_count": 12,
      "metadata": {},
      "outputs": [
        {
          "output_type": "stream",
          "name": "stdout",
          "text": [
            "(f(2), f2(2), f3(2)) = (4, 4, 4)"
          ]
        }
      ],
      "source": [
        "f(x) = x^2\n",
        "function f2(x)\n",
        "    return x^2\n",
        "end\n",
        "f3 = x -> x^2 # assignment not required\n",
        "@show f(2), f2(2), f3(2);"
      ],
      "id": "a12579cf"
    },
    {
      "cell_type": "markdown",
      "metadata": {},
      "source": [
        "## Default Arguments"
      ],
      "id": "1059968a-c707-490c-83b9-87a327fc0386"
    },
    {
      "cell_type": "code",
      "execution_count": 13,
      "metadata": {},
      "outputs": [
        {
          "output_type": "stream",
          "name": "stdout",
          "text": [
            "f(pi) = 0.36787944117144233\n",
            "f(pi, 2) = 2.718281828459045"
          ]
        }
      ],
      "source": [
        "f(x, a = 1) = exp(cos(a * x))\n",
        "@show f(pi)\n",
        "@show f(pi, 2);"
      ],
      "id": "31e5f7f3"
    },
    {
      "cell_type": "markdown",
      "metadata": {},
      "source": [
        "## Keyword Arguments"
      ],
      "id": "75f96f01-d3dd-4d3d-a946-68cf56b67453"
    },
    {
      "cell_type": "code",
      "execution_count": 14,
      "metadata": {},
      "outputs": [
        {
          "output_type": "stream",
          "name": "stdout",
          "text": [
            "f(pi) = 0.36787944117144233\n",
            "f(pi; a = 2) = 2.718281828459045\n",
            "f(pi; a) = 2.718281828459045"
          ]
        }
      ],
      "source": [
        "f2(x; a = 1) = exp(cos(a * x))  # note the ; in the definition\n",
        "# same as longform\n",
        "function f(x; a = 1)\n",
        "    return exp(cos(a * x))\n",
        "end\n",
        "@show f(pi)\n",
        "@show f(pi; a = 2) # passing in adate\n",
        "a = 2\n",
        "@show f(pi; a); # equivalent to f(pi; a = a)"
      ],
      "id": "4dcb5c30"
    },
    {
      "cell_type": "markdown",
      "metadata": {},
      "source": [
        "## Closures\n",
        "\n",
        "-   In general, try to avoid globals and closures outside of functions"
      ],
      "id": "0090d531-622b-4f23-89a4-4dd271773def"
    },
    {
      "cell_type": "code",
      "execution_count": 15,
      "metadata": {},
      "outputs": [
        {
          "output_type": "stream",
          "name": "stdout",
          "text": [
            "f(1) = 0.2\n",
            "f(1) = 0.3"
          ]
        }
      ],
      "source": [
        "a = 0.2\n",
        "f(x) = a * x^2  # refers to the `a` in the outer scope\n",
        "@show f(1)\n",
        "# The a is captured in this scope by name.  Careful!\n",
        "a = 0.3\n",
        "@show f(1);"
      ],
      "id": "9ad3162e"
    },
    {
      "cell_type": "markdown",
      "metadata": {},
      "source": [
        "## Closures Inside Functions\n",
        "\n",
        "-   But within a function they are safe, common, and usually free of\n",
        "    overhead"
      ],
      "id": "52f24131-2a13-4053-b6ac-623f4dbd0957"
    },
    {
      "cell_type": "code",
      "execution_count": 16,
      "metadata": {},
      "outputs": [
        {
          "output_type": "stream",
          "name": "stdout",
          "text": [
            "g(0.2) = 0.2"
          ]
        }
      ],
      "source": [
        "function g(a)\n",
        "    f(x) = a * x^2  # refers to the `a` passed in the function\n",
        "    return f(1)\n",
        "end\n",
        "a = 123.5 # Different scope than the `a` in function\n",
        "@show g(0.2);"
      ],
      "id": "bbd68085"
    },
    {
      "cell_type": "markdown",
      "metadata": {},
      "source": [
        "## Tuples and Named Tuples"
      ],
      "id": "e30d898e-7905-48ac-8d13-97ac91cfe4dd"
    },
    {
      "cell_type": "code",
      "execution_count": 17,
      "metadata": {},
      "outputs": [
        {
          "output_type": "stream",
          "name": "stdout",
          "text": [
            "t[1] = 1\n",
            "nt = (a = 1, b = 2.0, c = \"hello\")\n",
            "nt.a = 1"
          ]
        }
      ],
      "source": [
        "t = (1, 2.0, \"hello\")\n",
        "@show t[1]\n",
        "nt = (;a = 1, b = 2.0, c = \"hello\")\n",
        "@show nt\n",
        "@show nt.a; # can't use nt[1] or nt[\"a\"]"
      ],
      "id": "596ca6b5"
    },
    {
      "cell_type": "markdown",
      "metadata": {},
      "source": [
        "## Tuples Packing and Unpacking"
      ],
      "id": "64ff67bc-860a-4f16-8f09-3bdfeb66378a"
    },
    {
      "cell_type": "code",
      "execution_count": 18,
      "metadata": {},
      "outputs": [
        {
          "output_type": "stream",
          "name": "stdout",
          "text": [
            "solve_model(0.1) = (a = 0.010000000000000002, b = 0.020000000000000004, c = 0.030000000000000006)\n",
            "a = 0.010000000000000002, c = 0.030000000000000006"
          ]
        }
      ],
      "source": [
        "function solve_model(x)\n",
        "    a = x^2\n",
        "    b = 2 * a\n",
        "    c = a + b\n",
        "    return (; a, b, c)  # note local scope of tuples!\n",
        "end\n",
        "@show solve_model(0.1)\n",
        "# can unpack in different order, or use subset of values\n",
        "(; c, a) = solve_model(0.1)\n",
        "println(\"a = $a, c = $c\");"
      ],
      "id": "bfba9051"
    },
    {
      "cell_type": "markdown",
      "metadata": {},
      "source": [
        "## Array Basics"
      ],
      "id": "d4d0da39-d639-43a3-91ff-5415baf52dbb"
    },
    {
      "cell_type": "code",
      "execution_count": 19,
      "metadata": {
        "output-location": "column"
      },
      "outputs": [
        {
          "output_type": "stream",
          "name": "stdout",
          "text": [
            "size(b) = (3,)\n",
            "size(A) = (2, 2)\n",
            "typeof(b) = Vector{Float64}\n",
            "typeof(A) = Matrix{Int64}\n",
            "zeros(3) = [0.0, 0.0, 0.0]\n",
            "ones(2, 2) = [1.0 1.0; 1.0 1.0]\n",
            "fill(1.0, 2, 2) = [1.0 1.0; 1.0 1.0]\n",
            "similar(A) = [2147483648 0; 140509372384672 0]\n",
            "A[1, 1] = 1\n",
            "A[1, :] = [1, 2]\n",
            "A[1:end, 1] = [1, 3]"
          ]
        }
      ],
      "source": [
        "b = [1.0, 2.1, 3.0] # 1d array\n",
        "A = [1 2; 3 4] # 2x2 matrix\n",
        "@show size(b)\n",
        "@show size(A)\n",
        "@show typeof(b)\n",
        "@show typeof(A)\n",
        "@show zeros(3)\n",
        "@show ones(2, 2)\n",
        "@show fill(1.0, 2, 2)\n",
        "@show similar(A)\n",
        "@show A[1, 1]\n",
        "@show A[1, :]\n",
        "@show A[1:end, 1];"
      ],
      "id": "a157d1f5"
    },
    {
      "cell_type": "markdown",
      "metadata": {},
      "source": [
        "## Linear Algebra Basics"
      ],
      "id": "6ea844e6-1fd2-465c-a747-8ec717abd616"
    },
    {
      "cell_type": "code",
      "execution_count": 20,
      "metadata": {
        "output-location": "column"
      },
      "outputs": [
        {
          "output_type": "stream",
          "name": "stdout",
          "text": [
            "A * b = [5, 11]\n",
            "A' = [1 3; 2 4]\n",
            "dot(b, [5.0, 2.0]) = 9.0\n",
            "b' * b = 5\n",
            "Diagonal([1.0, 2.0]) = [1.0 0.0; 0.0 2.0]\n",
            "I = UniformScaling{Bool}(true)\n",
            "inv(A) = [-1.9999999999999996 0.9999999999999998; 1.4999999999999998 -0.4999999999999999]"
          ]
        }
      ],
      "source": [
        "A = [1 2; 3 4]\n",
        "b = [1, 2]\n",
        "@show A * b # Matrix product\n",
        "@show A' # transpose\n",
        "@show dot(b, [5.0, 2.0]) # dot product\n",
        "@show b' * b # dot product\n",
        "@show Diagonal([1.0, 2.0]) # diagonal matrix\n",
        "@show I # identity matrix\n",
        "@show inv(A); # inverse"
      ],
      "id": "31c5b900"
    },
    {
      "cell_type": "markdown",
      "metadata": {},
      "source": [
        "## Modifying Vectors\n",
        "\n",
        "-   Scalars and tuples/named tuples are immutable\n",
        "-   Vectors and matrices are mutable"
      ],
      "id": "143a13e3-7646-4a93-93d5-332b2e72494c"
    },
    {
      "cell_type": "code",
      "execution_count": 21,
      "metadata": {
        "output-location": "column"
      },
      "outputs": [
        {
          "output_type": "stream",
          "name": "stdout",
          "text": [
            "A = [2 2; 3 4]\n",
            "b = [2, 2]\n",
            "b = [3, 4]\n",
            "A = [3 4; 3 4]"
          ]
        }
      ],
      "source": [
        "A = [1 2; 3 4]\n",
        "A[1, 1] = 2\n",
        "@show A\n",
        "b = [1, 2]\n",
        "b[1] = 2\n",
        "@show b\n",
        "b .= [3, 4] # otherwise just renamed\n",
        "@show b\n",
        "A[1, :] .= [3, 4] # assign slice\n",
        "@show A;"
      ],
      "id": "cdea41c0"
    },
    {
      "cell_type": "markdown",
      "metadata": {},
      "source": [
        "## Learning More\n",
        "\n",
        "-   Clone the QuantEcon lectures\n",
        "    -   `> Git: Clone` the\n",
        "        `https://github.com/quantecon/lecture-julia.notebooks`\n",
        "-   This covers part of [Julia\n",
        "    Essentials](https://julia.quantecon.org/getting_started_julia/julia_essentials.html)\n",
        "    and [Fundamental\n",
        "    Types](https://julia.quantecon.org/getting_started_julia/fundamental_types.html)\n",
        "-   Other more advanced lectures, not required for this course, are\n",
        "    -   [Introduction to Types and Generic\n",
        "        Programming](https://julia.quantecon.org/more_julia/generic_programming.html)\n",
        "    -   [Generic\n",
        "        Programming](https://julia.quantecon.org/more_julia/generic_programming.html)\n",
        "    -   [Visual Studio and Other\n",
        "        Tools](https://julia.quantecon.org/software_engineering/tools_editors.html)"
      ],
      "id": "01c52822-3942-428e-b153-739a486364e3"
    }
  ],
  "nbformat": 4,
  "nbformat_minor": 5,
  "metadata": {
    "kernelspec": {
      "name": "julia-1.11",
      "display_name": "Julia 1.11.4",
      "language": "julia",
      "path": "/home/runner/.local/share/jupyter/kernels/julia-1.11"
    },
    "language_info": {
      "name": "julia",
      "file_extension": ".jl",
      "mimetype": "application/julia",
      "version": "1.11.4"
    }
  }
}